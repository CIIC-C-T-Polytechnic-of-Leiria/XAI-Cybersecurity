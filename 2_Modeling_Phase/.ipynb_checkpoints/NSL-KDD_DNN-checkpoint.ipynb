{
 "cells": [
  {
   "cell_type": "markdown",
   "id": "b46e7acb",
   "metadata": {},
   "source": [
    "# DNN"
   ]
  },
  {
   "cell_type": "markdown",
   "id": "d0f9f866",
   "metadata": {
    "id": "8_T2LCfAN_XF"
   },
   "source": [
    "## Import and Reading Data"
   ]
  },
  {
   "cell_type": "code",
   "execution_count": 1,
   "id": "e1b01cc2",
   "metadata": {
    "id": "K1li4zpPN_XH"
   },
   "outputs": [
    {
     "name": "stderr",
     "output_type": "stream",
     "text": [
      "2024-04-08 14:33:06.791846: I tensorflow/core/util/port.cc:113] oneDNN custom operations are on. You may see slightly different numerical results due to floating-point round-off errors from different computation orders. To turn them off, set the environment variable `TF_ENABLE_ONEDNN_OPTS=0`.\n",
      "2024-04-08 14:33:06.792216: I external/local_tsl/tsl/cuda/cudart_stub.cc:32] Could not find cuda drivers on your machine, GPU will not be used.\n",
      "2024-04-08 14:33:06.794565: I external/local_tsl/tsl/cuda/cudart_stub.cc:32] Could not find cuda drivers on your machine, GPU will not be used.\n",
      "2024-04-08 14:33:06.825823: I tensorflow/core/platform/cpu_feature_guard.cc:210] This TensorFlow binary is optimized to use available CPU instructions in performance-critical operations.\n",
      "To enable the following instructions: AVX2 AVX512F AVX512_VNNI FMA, in other operations, rebuild TensorFlow with the appropriate compiler flags.\n",
      "2024-04-08 14:33:07.427820: W tensorflow/compiler/tf2tensorrt/utils/py_utils.cc:38] TF-TRT Warning: Could not find TensorRT\n"
     ]
    }
   ],
   "source": [
    "import pandas as pd\n",
    "import numpy as np\n",
    "import joblib\n",
    "import matplotlib.pyplot as plt\n",
    "from sklearn.model_selection import train_test_split\n",
    "\n",
    "from sklearn import metrics\n",
    "from sklearn.preprocessing import LabelEncoder\n",
    "from sklearn.model_selection import train_test_split\n",
    "from sklearn.ensemble import RandomForestClassifier\n",
    "from tensorflow.keras.models import Sequential, load_model\n",
    "from tensorflow.keras.layers import Dense, Activation, Dropout, BatchNormalization\n",
    "from tensorflow.keras.callbacks import EarlyStopping, ModelCheckpoint\n",
    "import tensorflow as tf"
   ]
  },
  {
   "cell_type": "code",
   "execution_count": 2,
   "id": "4bdded79-fa85-4053-a6d2-6bbd35f0a70b",
   "metadata": {},
   "outputs": [],
   "source": [
    "# add the column labels\n",
    "columns = (['duration'\n",
    ",'protocol_type'\n",
    ",'service'\n",
    ",'flag'\n",
    ",'src_bytes'\n",
    ",'dst_bytes'\n",
    ",'land'\n",
    ",'wrong_fragment'\n",
    ",'urgent'\n",
    ",'hot'\n",
    ",'num_failed_logins'\n",
    ",'logged_in'\n",
    ",'num_compromised'\n",
    ",'root_shell'\n",
    ",'su_attempted'\n",
    ",'num_root'\n",
    ",'num_file_creations'\n",
    ",'num_shells'\n",
    ",'num_access_files'\n",
    ",'num_outbound_cmds'\n",
    ",'is_host_login'\n",
    ",'is_guest_login'\n",
    ",'count'\n",
    ",'srv_count'\n",
    ",'serror_rate'\n",
    ",'srv_serror_rate'\n",
    ",'rerror_rate'\n",
    ",'srv_rerror_rate'\n",
    ",'same_srv_rate'\n",
    ",'diff_srv_rate'\n",
    ",'srv_diff_host_rate'\n",
    ",'dst_host_count'\n",
    ",'dst_host_srv_count'\n",
    ",'dst_host_same_srv_rate'\n",
    ",'dst_host_diff_srv_rate'\n",
    ",'dst_host_same_src_port_rate'\n",
    ",'dst_host_srv_diff_host_rate'\n",
    ",'dst_host_serror_rate'\n",
    ",'dst_host_srv_serror_rate'\n",
    ",'dst_host_rerror_rate'\n",
    ",'dst_host_srv_rerror_rate'\n",
    ",'attack'\n",
    ",'level'])"
   ]
  },
  {
   "cell_type": "code",
   "execution_count": 3,
   "id": "21f648c7",
   "metadata": {},
   "outputs": [],
   "source": [
    "df_train = pd.read_csv(\"../0_Datasets/nsl-kdd/KDDTrain+.txt\",header=None,names=columns)"
   ]
  },
  {
   "cell_type": "code",
   "execution_count": 4,
   "id": "53e0cf9c-2dff-4e73-9769-3f14a5398b24",
   "metadata": {},
   "outputs": [],
   "source": [
    "df_test = pd.read_csv(\"../0_Datasets/nsl-kdd/KDDTest+.txt\",header=None,names=columns)"
   ]
  },
  {
   "cell_type": "code",
   "execution_count": 5,
   "id": "6ba194ec-7204-492d-93a3-1a4a51f1de09",
   "metadata": {},
   "outputs": [
    {
     "data": {
      "text/html": [
       "<div>\n",
       "<style scoped>\n",
       "    .dataframe tbody tr th:only-of-type {\n",
       "        vertical-align: middle;\n",
       "    }\n",
       "\n",
       "    .dataframe tbody tr th {\n",
       "        vertical-align: top;\n",
       "    }\n",
       "\n",
       "    .dataframe thead th {\n",
       "        text-align: right;\n",
       "    }\n",
       "</style>\n",
       "<table border=\"1\" class=\"dataframe\">\n",
       "  <thead>\n",
       "    <tr style=\"text-align: right;\">\n",
       "      <th></th>\n",
       "      <th>duration</th>\n",
       "      <th>protocol_type</th>\n",
       "      <th>service</th>\n",
       "      <th>flag</th>\n",
       "      <th>src_bytes</th>\n",
       "      <th>dst_bytes</th>\n",
       "      <th>land</th>\n",
       "      <th>wrong_fragment</th>\n",
       "      <th>urgent</th>\n",
       "      <th>hot</th>\n",
       "      <th>...</th>\n",
       "      <th>dst_host_same_srv_rate</th>\n",
       "      <th>dst_host_diff_srv_rate</th>\n",
       "      <th>dst_host_same_src_port_rate</th>\n",
       "      <th>dst_host_srv_diff_host_rate</th>\n",
       "      <th>dst_host_serror_rate</th>\n",
       "      <th>dst_host_srv_serror_rate</th>\n",
       "      <th>dst_host_rerror_rate</th>\n",
       "      <th>dst_host_srv_rerror_rate</th>\n",
       "      <th>attack</th>\n",
       "      <th>level</th>\n",
       "    </tr>\n",
       "  </thead>\n",
       "  <tbody>\n",
       "    <tr>\n",
       "      <th>0</th>\n",
       "      <td>0</td>\n",
       "      <td>tcp</td>\n",
       "      <td>ftp_data</td>\n",
       "      <td>SF</td>\n",
       "      <td>491</td>\n",
       "      <td>0</td>\n",
       "      <td>0</td>\n",
       "      <td>0</td>\n",
       "      <td>0</td>\n",
       "      <td>0</td>\n",
       "      <td>...</td>\n",
       "      <td>0.17</td>\n",
       "      <td>0.03</td>\n",
       "      <td>0.17</td>\n",
       "      <td>0.00</td>\n",
       "      <td>0.00</td>\n",
       "      <td>0.00</td>\n",
       "      <td>0.05</td>\n",
       "      <td>0.00</td>\n",
       "      <td>normal</td>\n",
       "      <td>20</td>\n",
       "    </tr>\n",
       "    <tr>\n",
       "      <th>1</th>\n",
       "      <td>0</td>\n",
       "      <td>udp</td>\n",
       "      <td>other</td>\n",
       "      <td>SF</td>\n",
       "      <td>146</td>\n",
       "      <td>0</td>\n",
       "      <td>0</td>\n",
       "      <td>0</td>\n",
       "      <td>0</td>\n",
       "      <td>0</td>\n",
       "      <td>...</td>\n",
       "      <td>0.00</td>\n",
       "      <td>0.60</td>\n",
       "      <td>0.88</td>\n",
       "      <td>0.00</td>\n",
       "      <td>0.00</td>\n",
       "      <td>0.00</td>\n",
       "      <td>0.00</td>\n",
       "      <td>0.00</td>\n",
       "      <td>normal</td>\n",
       "      <td>15</td>\n",
       "    </tr>\n",
       "    <tr>\n",
       "      <th>2</th>\n",
       "      <td>0</td>\n",
       "      <td>tcp</td>\n",
       "      <td>private</td>\n",
       "      <td>S0</td>\n",
       "      <td>0</td>\n",
       "      <td>0</td>\n",
       "      <td>0</td>\n",
       "      <td>0</td>\n",
       "      <td>0</td>\n",
       "      <td>0</td>\n",
       "      <td>...</td>\n",
       "      <td>0.10</td>\n",
       "      <td>0.05</td>\n",
       "      <td>0.00</td>\n",
       "      <td>0.00</td>\n",
       "      <td>1.00</td>\n",
       "      <td>1.00</td>\n",
       "      <td>0.00</td>\n",
       "      <td>0.00</td>\n",
       "      <td>neptune</td>\n",
       "      <td>19</td>\n",
       "    </tr>\n",
       "    <tr>\n",
       "      <th>3</th>\n",
       "      <td>0</td>\n",
       "      <td>tcp</td>\n",
       "      <td>http</td>\n",
       "      <td>SF</td>\n",
       "      <td>232</td>\n",
       "      <td>8153</td>\n",
       "      <td>0</td>\n",
       "      <td>0</td>\n",
       "      <td>0</td>\n",
       "      <td>0</td>\n",
       "      <td>...</td>\n",
       "      <td>1.00</td>\n",
       "      <td>0.00</td>\n",
       "      <td>0.03</td>\n",
       "      <td>0.04</td>\n",
       "      <td>0.03</td>\n",
       "      <td>0.01</td>\n",
       "      <td>0.00</td>\n",
       "      <td>0.01</td>\n",
       "      <td>normal</td>\n",
       "      <td>21</td>\n",
       "    </tr>\n",
       "    <tr>\n",
       "      <th>4</th>\n",
       "      <td>0</td>\n",
       "      <td>tcp</td>\n",
       "      <td>http</td>\n",
       "      <td>SF</td>\n",
       "      <td>199</td>\n",
       "      <td>420</td>\n",
       "      <td>0</td>\n",
       "      <td>0</td>\n",
       "      <td>0</td>\n",
       "      <td>0</td>\n",
       "      <td>...</td>\n",
       "      <td>1.00</td>\n",
       "      <td>0.00</td>\n",
       "      <td>0.00</td>\n",
       "      <td>0.00</td>\n",
       "      <td>0.00</td>\n",
       "      <td>0.00</td>\n",
       "      <td>0.00</td>\n",
       "      <td>0.00</td>\n",
       "      <td>normal</td>\n",
       "      <td>21</td>\n",
       "    </tr>\n",
       "    <tr>\n",
       "      <th>...</th>\n",
       "      <td>...</td>\n",
       "      <td>...</td>\n",
       "      <td>...</td>\n",
       "      <td>...</td>\n",
       "      <td>...</td>\n",
       "      <td>...</td>\n",
       "      <td>...</td>\n",
       "      <td>...</td>\n",
       "      <td>...</td>\n",
       "      <td>...</td>\n",
       "      <td>...</td>\n",
       "      <td>...</td>\n",
       "      <td>...</td>\n",
       "      <td>...</td>\n",
       "      <td>...</td>\n",
       "      <td>...</td>\n",
       "      <td>...</td>\n",
       "      <td>...</td>\n",
       "      <td>...</td>\n",
       "      <td>...</td>\n",
       "      <td>...</td>\n",
       "    </tr>\n",
       "    <tr>\n",
       "      <th>125968</th>\n",
       "      <td>0</td>\n",
       "      <td>tcp</td>\n",
       "      <td>private</td>\n",
       "      <td>S0</td>\n",
       "      <td>0</td>\n",
       "      <td>0</td>\n",
       "      <td>0</td>\n",
       "      <td>0</td>\n",
       "      <td>0</td>\n",
       "      <td>0</td>\n",
       "      <td>...</td>\n",
       "      <td>0.10</td>\n",
       "      <td>0.06</td>\n",
       "      <td>0.00</td>\n",
       "      <td>0.00</td>\n",
       "      <td>1.00</td>\n",
       "      <td>1.00</td>\n",
       "      <td>0.00</td>\n",
       "      <td>0.00</td>\n",
       "      <td>neptune</td>\n",
       "      <td>20</td>\n",
       "    </tr>\n",
       "    <tr>\n",
       "      <th>125969</th>\n",
       "      <td>8</td>\n",
       "      <td>udp</td>\n",
       "      <td>private</td>\n",
       "      <td>SF</td>\n",
       "      <td>105</td>\n",
       "      <td>145</td>\n",
       "      <td>0</td>\n",
       "      <td>0</td>\n",
       "      <td>0</td>\n",
       "      <td>0</td>\n",
       "      <td>...</td>\n",
       "      <td>0.96</td>\n",
       "      <td>0.01</td>\n",
       "      <td>0.01</td>\n",
       "      <td>0.00</td>\n",
       "      <td>0.00</td>\n",
       "      <td>0.00</td>\n",
       "      <td>0.00</td>\n",
       "      <td>0.00</td>\n",
       "      <td>normal</td>\n",
       "      <td>21</td>\n",
       "    </tr>\n",
       "    <tr>\n",
       "      <th>125970</th>\n",
       "      <td>0</td>\n",
       "      <td>tcp</td>\n",
       "      <td>smtp</td>\n",
       "      <td>SF</td>\n",
       "      <td>2231</td>\n",
       "      <td>384</td>\n",
       "      <td>0</td>\n",
       "      <td>0</td>\n",
       "      <td>0</td>\n",
       "      <td>0</td>\n",
       "      <td>...</td>\n",
       "      <td>0.12</td>\n",
       "      <td>0.06</td>\n",
       "      <td>0.00</td>\n",
       "      <td>0.00</td>\n",
       "      <td>0.72</td>\n",
       "      <td>0.00</td>\n",
       "      <td>0.01</td>\n",
       "      <td>0.00</td>\n",
       "      <td>normal</td>\n",
       "      <td>18</td>\n",
       "    </tr>\n",
       "    <tr>\n",
       "      <th>125971</th>\n",
       "      <td>0</td>\n",
       "      <td>tcp</td>\n",
       "      <td>klogin</td>\n",
       "      <td>S0</td>\n",
       "      <td>0</td>\n",
       "      <td>0</td>\n",
       "      <td>0</td>\n",
       "      <td>0</td>\n",
       "      <td>0</td>\n",
       "      <td>0</td>\n",
       "      <td>...</td>\n",
       "      <td>0.03</td>\n",
       "      <td>0.05</td>\n",
       "      <td>0.00</td>\n",
       "      <td>0.00</td>\n",
       "      <td>1.00</td>\n",
       "      <td>1.00</td>\n",
       "      <td>0.00</td>\n",
       "      <td>0.00</td>\n",
       "      <td>neptune</td>\n",
       "      <td>20</td>\n",
       "    </tr>\n",
       "    <tr>\n",
       "      <th>125972</th>\n",
       "      <td>0</td>\n",
       "      <td>tcp</td>\n",
       "      <td>ftp_data</td>\n",
       "      <td>SF</td>\n",
       "      <td>151</td>\n",
       "      <td>0</td>\n",
       "      <td>0</td>\n",
       "      <td>0</td>\n",
       "      <td>0</td>\n",
       "      <td>0</td>\n",
       "      <td>...</td>\n",
       "      <td>0.30</td>\n",
       "      <td>0.03</td>\n",
       "      <td>0.30</td>\n",
       "      <td>0.00</td>\n",
       "      <td>0.00</td>\n",
       "      <td>0.00</td>\n",
       "      <td>0.00</td>\n",
       "      <td>0.00</td>\n",
       "      <td>normal</td>\n",
       "      <td>21</td>\n",
       "    </tr>\n",
       "  </tbody>\n",
       "</table>\n",
       "<p>125973 rows × 43 columns</p>\n",
       "</div>"
      ],
      "text/plain": [
       "        duration protocol_type   service flag  src_bytes  dst_bytes  land  \\\n",
       "0              0           tcp  ftp_data   SF        491          0     0   \n",
       "1              0           udp     other   SF        146          0     0   \n",
       "2              0           tcp   private   S0          0          0     0   \n",
       "3              0           tcp      http   SF        232       8153     0   \n",
       "4              0           tcp      http   SF        199        420     0   \n",
       "...          ...           ...       ...  ...        ...        ...   ...   \n",
       "125968         0           tcp   private   S0          0          0     0   \n",
       "125969         8           udp   private   SF        105        145     0   \n",
       "125970         0           tcp      smtp   SF       2231        384     0   \n",
       "125971         0           tcp    klogin   S0          0          0     0   \n",
       "125972         0           tcp  ftp_data   SF        151          0     0   \n",
       "\n",
       "        wrong_fragment  urgent  hot  ...  dst_host_same_srv_rate  \\\n",
       "0                    0       0    0  ...                    0.17   \n",
       "1                    0       0    0  ...                    0.00   \n",
       "2                    0       0    0  ...                    0.10   \n",
       "3                    0       0    0  ...                    1.00   \n",
       "4                    0       0    0  ...                    1.00   \n",
       "...                ...     ...  ...  ...                     ...   \n",
       "125968               0       0    0  ...                    0.10   \n",
       "125969               0       0    0  ...                    0.96   \n",
       "125970               0       0    0  ...                    0.12   \n",
       "125971               0       0    0  ...                    0.03   \n",
       "125972               0       0    0  ...                    0.30   \n",
       "\n",
       "        dst_host_diff_srv_rate  dst_host_same_src_port_rate  \\\n",
       "0                         0.03                         0.17   \n",
       "1                         0.60                         0.88   \n",
       "2                         0.05                         0.00   \n",
       "3                         0.00                         0.03   \n",
       "4                         0.00                         0.00   \n",
       "...                        ...                          ...   \n",
       "125968                    0.06                         0.00   \n",
       "125969                    0.01                         0.01   \n",
       "125970                    0.06                         0.00   \n",
       "125971                    0.05                         0.00   \n",
       "125972                    0.03                         0.30   \n",
       "\n",
       "        dst_host_srv_diff_host_rate  dst_host_serror_rate  \\\n",
       "0                              0.00                  0.00   \n",
       "1                              0.00                  0.00   \n",
       "2                              0.00                  1.00   \n",
       "3                              0.04                  0.03   \n",
       "4                              0.00                  0.00   \n",
       "...                             ...                   ...   \n",
       "125968                         0.00                  1.00   \n",
       "125969                         0.00                  0.00   \n",
       "125970                         0.00                  0.72   \n",
       "125971                         0.00                  1.00   \n",
       "125972                         0.00                  0.00   \n",
       "\n",
       "        dst_host_srv_serror_rate  dst_host_rerror_rate  \\\n",
       "0                           0.00                  0.05   \n",
       "1                           0.00                  0.00   \n",
       "2                           1.00                  0.00   \n",
       "3                           0.01                  0.00   \n",
       "4                           0.00                  0.00   \n",
       "...                          ...                   ...   \n",
       "125968                      1.00                  0.00   \n",
       "125969                      0.00                  0.00   \n",
       "125970                      0.00                  0.01   \n",
       "125971                      1.00                  0.00   \n",
       "125972                      0.00                  0.00   \n",
       "\n",
       "        dst_host_srv_rerror_rate   attack  level  \n",
       "0                           0.00   normal     20  \n",
       "1                           0.00   normal     15  \n",
       "2                           0.00  neptune     19  \n",
       "3                           0.01   normal     21  \n",
       "4                           0.00   normal     21  \n",
       "...                          ...      ...    ...  \n",
       "125968                      0.00  neptune     20  \n",
       "125969                      0.00   normal     21  \n",
       "125970                      0.00   normal     18  \n",
       "125971                      0.00  neptune     20  \n",
       "125972                      0.00   normal     21  \n",
       "\n",
       "[125973 rows x 43 columns]"
      ]
     },
     "execution_count": 5,
     "metadata": {},
     "output_type": "execute_result"
    }
   ],
   "source": [
    "df_train"
   ]
  },
  {
   "cell_type": "code",
   "execution_count": 6,
   "id": "e6cee4b3-4461-46f8-809b-3e7bb3830327",
   "metadata": {},
   "outputs": [
    {
     "name": "stdout",
     "output_type": "stream",
     "text": [
      "0\n",
      "0\n"
     ]
    }
   ],
   "source": [
    "print(df_train.duplicated().sum())\n",
    "print(df_test.duplicated().sum())"
   ]
  },
  {
   "cell_type": "code",
   "execution_count": 7,
   "id": "0a6ee06e-b042-4227-b278-6d89b0fb0868",
   "metadata": {},
   "outputs": [
    {
     "data": {
      "text/plain": [
       "duration                       0\n",
       "protocol_type                  0\n",
       "service                        0\n",
       "flag                           0\n",
       "src_bytes                      0\n",
       "dst_bytes                      0\n",
       "land                           0\n",
       "wrong_fragment                 0\n",
       "urgent                         0\n",
       "hot                            0\n",
       "num_failed_logins              0\n",
       "logged_in                      0\n",
       "num_compromised                0\n",
       "root_shell                     0\n",
       "su_attempted                   0\n",
       "num_root                       0\n",
       "num_file_creations             0\n",
       "num_shells                     0\n",
       "num_access_files               0\n",
       "num_outbound_cmds              0\n",
       "is_host_login                  0\n",
       "is_guest_login                 0\n",
       "count                          0\n",
       "srv_count                      0\n",
       "serror_rate                    0\n",
       "srv_serror_rate                0\n",
       "rerror_rate                    0\n",
       "srv_rerror_rate                0\n",
       "same_srv_rate                  0\n",
       "diff_srv_rate                  0\n",
       "srv_diff_host_rate             0\n",
       "dst_host_count                 0\n",
       "dst_host_srv_count             0\n",
       "dst_host_same_srv_rate         0\n",
       "dst_host_diff_srv_rate         0\n",
       "dst_host_same_src_port_rate    0\n",
       "dst_host_srv_diff_host_rate    0\n",
       "dst_host_serror_rate           0\n",
       "dst_host_srv_serror_rate       0\n",
       "dst_host_rerror_rate           0\n",
       "dst_host_srv_rerror_rate       0\n",
       "attack                         0\n",
       "level                          0\n",
       "dtype: int64"
      ]
     },
     "execution_count": 7,
     "metadata": {},
     "output_type": "execute_result"
    }
   ],
   "source": [
    "df_train.isnull().sum()"
   ]
  },
  {
   "cell_type": "code",
   "execution_count": 8,
   "id": "7fc3ce8c-8309-4c63-89bd-ea70c2dcd15a",
   "metadata": {},
   "outputs": [],
   "source": [
    "df_train[\"binary_attack\"]=df_train.attack.map(lambda a: \"normal\" if a == 'normal' else \"malicious\")\n",
    "df_train.drop('attack',axis=1,inplace=True)\n",
    "\n",
    "df_test[\"binary_attack\"]=df_test.attack.map(lambda a: \"normal\" if a == 'normal' else \"malicious\")\n",
    "df_test.drop('attack',axis=1,inplace=True)"
   ]
  },
  {
   "cell_type": "code",
   "execution_count": 9,
   "id": "446d625c-6492-4840-8f70-ea1bc55282df",
   "metadata": {},
   "outputs": [
    {
     "data": {
      "text/plain": [
       "Index(['protocol_type', 'service', 'flag', 'binary_attack'], dtype='object')"
      ]
     },
     "execution_count": 9,
     "metadata": {},
     "output_type": "execute_result"
    }
   ],
   "source": [
    "df_train.select_dtypes(['object']).columns"
   ]
  },
  {
   "cell_type": "code",
   "execution_count": 10,
   "id": "7bfcf1d7-402c-40c6-800f-d3fd1a4a5a11",
   "metadata": {},
   "outputs": [],
   "source": [
    "# Label Encoder\n",
    "from sklearn import preprocessing\n",
    "le=preprocessing.LabelEncoder()\n",
    "clm=['protocol_type', 'service', 'flag', 'binary_attack']\n",
    "for x in clm:\n",
    "    df_train[x]=le.fit_transform(df_train[x])\n",
    "    df_test[x]=le.fit_transform(df_test[x])"
   ]
  },
  {
   "cell_type": "code",
   "execution_count": 11,
   "id": "a9cd6146-6e35-4c17-9cca-77d899b50c9c",
   "metadata": {},
   "outputs": [],
   "source": [
    "x_train=df_train.drop('binary_attack',axis=1)\n",
    "y_train=df_train[\"binary_attack\"]\n",
    "\n",
    "x_test=df_test.drop('binary_attack',axis=1)\n",
    "y_test=df_test[\"binary_attack\"]"
   ]
  },
  {
   "cell_type": "code",
   "execution_count": 12,
   "id": "53d1fb54-c29c-41dd-b2b4-faadbed45c5d",
   "metadata": {},
   "outputs": [
    {
     "data": {
      "text/plain": [
       "src_bytes                      0.566207\n",
       "service                        0.469379\n",
       "dst_bytes                      0.441468\n",
       "same_srv_rate                  0.368381\n",
       "flag                           0.367863\n",
       "diff_srv_rate                  0.360265\n",
       "dst_host_srv_count             0.334746\n",
       "dst_host_same_srv_rate         0.310654\n",
       "logged_in                      0.294129\n",
       "dst_host_serror_rate           0.288652\n",
       "dst_host_diff_srv_rate         0.284680\n",
       "dst_host_srv_serror_rate       0.282926\n",
       "serror_rate                    0.277100\n",
       "srv_serror_rate                0.268329\n",
       "count                          0.263485\n",
       "dst_host_srv_diff_host_rate    0.186397\n",
       "level                          0.154169\n",
       "dst_host_count                 0.143818\n",
       "dst_host_same_src_port_rate    0.129092\n",
       "srv_diff_host_rate             0.100226\n",
       "srv_count                      0.063540\n",
       "dst_host_srv_rerror_rate       0.062247\n",
       "protocol_type                  0.054519\n",
       "rerror_rate                    0.040264\n",
       "srv_rerror_rate                0.037589\n",
       "dst_host_rerror_rate           0.036054\n",
       "duration                       0.027546\n",
       "hot                            0.011250\n",
       "num_root                       0.005187\n",
       "wrong_fragment                 0.004629\n",
       "num_compromised                0.003894\n",
       "is_guest_login                 0.002058\n",
       "num_file_creations             0.001360\n",
       "land                           0.000971\n",
       "num_access_files               0.000792\n",
       "is_host_login                  0.000762\n",
       "num_outbound_cmds              0.000745\n",
       "num_failed_logins              0.000593\n",
       "su_attempted                   0.000472\n",
       "urgent                         0.000000\n",
       "root_shell                     0.000000\n",
       "num_shells                     0.000000\n",
       "dtype: float64"
      ]
     },
     "execution_count": 12,
     "metadata": {},
     "output_type": "execute_result"
    }
   ],
   "source": [
    "from sklearn.feature_selection import mutual_info_classif\n",
    "mutual_info = mutual_info_classif(x_train, y_train)\n",
    "mutual_info = pd.Series(mutual_info)\n",
    "mutual_info.index = x_train.columns\n",
    "mutual_info.sort_values(ascending=False)"
   ]
  },
  {
   "cell_type": "code",
   "execution_count": 13,
   "id": "9a250a66-7ded-4a5e-a591-416f136fbc84",
   "metadata": {},
   "outputs": [
    {
     "data": {
      "image/png": "[encoded data removed]",
      "text/plain": [
       "<Figure size 2000x800 with 1 Axes>"
      ]
     },
     "metadata": {},
     "output_type": "display_data"
    }
   ],
   "source": [
    "mutual_info.sort_values(ascending=False).plot.bar(figsize=(20, 8));"
   ]
  },
  {
   "cell_type": "code",
   "execution_count": 14,
   "id": "b3f5de04-0aa6-412b-9295-73d946818f05",
   "metadata": {},
   "outputs": [
    {
     "data": {
      "text/plain": [
       "Index(['service', 'flag', 'src_bytes', 'dst_bytes', 'logged_in', 'count',\n",
       "       'serror_rate', 'srv_serror_rate', 'same_srv_rate', 'diff_srv_rate',\n",
       "       'srv_diff_host_rate', 'dst_host_count', 'dst_host_srv_count',\n",
       "       'dst_host_same_srv_rate', 'dst_host_diff_srv_rate',\n",
       "       'dst_host_same_src_port_rate', 'dst_host_srv_diff_host_rate',\n",
       "       'dst_host_serror_rate', 'dst_host_srv_serror_rate', 'level'],\n",
       "      dtype='object')"
      ]
     },
     "execution_count": 14,
     "metadata": {},
     "output_type": "execute_result"
    }
   ],
   "source": [
    "# I will choose 20 features to select\n",
    "from sklearn.feature_selection import SelectKBest\n",
    "sel_five_cols = SelectKBest(mutual_info_classif, k=20)\n",
    "sel_five_cols.fit(x_train, y_train)\n",
    "x_train.columns[sel_five_cols.get_support()]"
   ]
  },
  {
   "cell_type": "code",
   "execution_count": 15,
   "id": "0fc00ae8-51ad-4127-bde3-dba04cf29b3b",
   "metadata": {},
   "outputs": [],
   "source": [
    "col=['service', 'flag', 'src_bytes', 'dst_bytes', 'logged_in',\n",
    "       'same_srv_rate', 'diff_srv_rate', 'dst_host_srv_count',\n",
    "       'dst_host_same_srv_rate', 'dst_host_diff_srv_rate']\n",
    "x_train=x_train[col]\n",
    "x_test=x_test[col]"
   ]
  },
  {
   "cell_type": "code",
   "execution_count": 16,
   "id": "5acbdf9a-585a-44e9-9188-b528fe61f2fd",
   "metadata": {},
   "outputs": [],
   "source": [
    "from sklearn.preprocessing import MinMaxScaler\n",
    "scaler = MinMaxScaler()\n",
    "x_train= scaler.fit_transform(x_train)\n",
    "x_test= scaler.fit_transform(x_test)"
   ]
  },
  {
   "cell_type": "code",
   "execution_count": 17,
   "id": "9a735919-b0e5-41c8-a2c5-44362216f405",
   "metadata": {},
   "outputs": [],
   "source": [
    "x_train, x_train_test, y_train, y_train_test = train_test_split(x_train, y_train, test_size=0.2, random_state=42)"
   ]
  },
  {
   "cell_type": "markdown",
   "id": "d7aa8afb",
   "metadata": {},
   "source": [
    "-----\n",
    "## Create Model and Train Model"
   ]
  },
  {
   "cell_type": "code",
   "execution_count": 18,
   "id": "b8e28fdb-883a-49e5-b684-d5a0c5684036",
   "metadata": {},
   "outputs": [
    {
     "data": {
      "text/plain": [
       "((100778, 10), (100778,))"
      ]
     },
     "execution_count": 18,
     "metadata": {},
     "output_type": "execute_result"
    }
   ],
   "source": [
    "x_train.shape,y_train.shape"
   ]
  },
  {
   "cell_type": "code",
   "execution_count": 19,
   "id": "f298c1ed-b4d2-45d0-90c9-76ae580baa12",
   "metadata": {},
   "outputs": [
    {
     "data": {
      "text/plain": [
       "((25195, 10), (25195,))"
      ]
     },
     "execution_count": 19,
     "metadata": {},
     "output_type": "execute_result"
    }
   ],
   "source": [
    "x_train_test.shape, y_train_test.shape"
   ]
  },
  {
   "cell_type": "code",
   "execution_count": 20,
   "id": "0f2e90ce-f4b2-40ee-9f52-cbd133c90fd6",
   "metadata": {},
   "outputs": [
    {
     "data": {
      "text/plain": [
       "((22544, 10), (22544,))"
      ]
     },
     "execution_count": 20,
     "metadata": {},
     "output_type": "execute_result"
    }
   ],
   "source": [
    "x_test.shape,y_test.shape"
   ]
  },
  {
   "cell_type": "code",
   "execution_count": 21,
   "id": "a9fea029",
   "metadata": {},
   "outputs": [
    {
     "name": "stdout",
     "output_type": "stream",
     "text": [
      "Epoch 1/100\n"
     ]
    },
    {
     "name": "stderr",
     "output_type": "stream",
     "text": [
      "/home/ivoafonsobispo/.local/lib/python3.10/site-packages/keras/src/layers/core/dense.py:88: UserWarning: Do not pass an `input_shape`/`input_dim` argument to a layer. When using Sequential models, prefer using an `Input(shape)` object as the first layer in the model instead.\n",
      "  super().__init__(activity_regularizer=activity_regularizer, **kwargs)\n",
      "2024-04-08 14:33:37.481226: I external/local_xla/xla/stream_executor/cuda/cuda_executor.cc:998] successful NUMA node read from SysFS had negative value (-1), but there must be at least one NUMA node, so returning NUMA node zero. See more at https://github.com/torvalds/linux/blob/v6.0/Documentation/ABI/testing/sysfs-bus-pci#L344-L355\n",
      "2024-04-08 14:33:37.481470: W tensorflow/core/common_runtime/gpu/gpu_device.cc:2251] Cannot dlopen some GPU libraries. Please make sure the missing libraries mentioned above are installed properly if you would like to use GPU. Follow the guide at https://www.tensorflow.org/install/gpu for how to download and setup the required libraries for your platform.\n",
      "Skipping registering GPU devices...\n"
     ]
    },
    {
     "name": "stdout",
     "output_type": "stream",
     "text": [
      "\u001b[1m197/197\u001b[0m \u001b[32m━━━━━━━━━━━━━━━━━━━━\u001b[0m\u001b[37m\u001b[0m \u001b[1m1s\u001b[0m 2ms/step - accuracy: 0.7897 - loss: 0.4689 - val_accuracy: 0.8776 - val_loss: 0.3117 - learning_rate: 0.0010\n",
      "Epoch 2/100\n",
      "\u001b[1m197/197\u001b[0m \u001b[32m━━━━━━━━━━━━━━━━━━━━\u001b[0m\u001b[37m\u001b[0m \u001b[1m0s\u001b[0m 1ms/step - accuracy: 0.8959 - loss: 0.2523 - val_accuracy: 0.9007 - val_loss: 0.2040 - learning_rate: 0.0010\n",
      "Epoch 3/100\n",
      "\u001b[1m197/197\u001b[0m \u001b[32m━━━━━━━━━━━━━━━━━━━━\u001b[0m\u001b[37m\u001b[0m \u001b[1m0s\u001b[0m 1ms/step - accuracy: 0.9053 - loss: 0.2330 - val_accuracy: 0.9247 - val_loss: 0.1824 - learning_rate: 0.0010\n",
      "Epoch 4/100\n",
      "\u001b[1m197/197\u001b[0m \u001b[32m━━━━━━━━━━━━━━━━━━━━\u001b[0m\u001b[37m\u001b[0m \u001b[1m0s\u001b[0m 1ms/step - accuracy: 0.9102 - loss: 0.2203 - val_accuracy: 0.9284 - val_loss: 0.1768 - learning_rate: 0.0010\n",
      "Epoch 5/100\n",
      "\u001b[1m197/197\u001b[0m \u001b[32m━━━━━━━━━━━━━━━━━━━━\u001b[0m\u001b[37m\u001b[0m \u001b[1m0s\u001b[0m 1ms/step - accuracy: 0.9132 - loss: 0.2172 - val_accuracy: 0.9306 - val_loss: 0.1729 - learning_rate: 0.0010\n",
      "Epoch 6/100\n",
      "\u001b[1m197/197\u001b[0m \u001b[32m━━━━━━━━━━━━━━━━━━━━\u001b[0m\u001b[37m\u001b[0m \u001b[1m0s\u001b[0m 1ms/step - accuracy: 0.9150 - loss: 0.2103 - val_accuracy: 0.9295 - val_loss: 0.1719 - learning_rate: 0.0010\n",
      "Epoch 7/100\n",
      "\u001b[1m197/197\u001b[0m \u001b[32m━━━━━━━━━━━━━━━━━━━━\u001b[0m\u001b[37m\u001b[0m \u001b[1m0s\u001b[0m 1ms/step - accuracy: 0.9165 - loss: 0.2086 - val_accuracy: 0.9338 - val_loss: 0.1680 - learning_rate: 0.0010\n",
      "Epoch 8/100\n",
      "\u001b[1m197/197\u001b[0m \u001b[32m━━━━━━━━━━━━━━━━━━━━\u001b[0m\u001b[37m\u001b[0m \u001b[1m0s\u001b[0m 1ms/step - accuracy: 0.9167 - loss: 0.2057 - val_accuracy: 0.9304 - val_loss: 0.1688 - learning_rate: 0.0010\n",
      "Epoch 9/100\n",
      "\u001b[1m197/197\u001b[0m \u001b[32m━━━━━━━━━━━━━━━━━━━━\u001b[0m\u001b[37m\u001b[0m \u001b[1m0s\u001b[0m 1ms/step - accuracy: 0.9175 - loss: 0.2039 - val_accuracy: 0.9360 - val_loss: 0.1652 - learning_rate: 0.0010\n",
      "Epoch 10/100\n",
      "\u001b[1m197/197\u001b[0m \u001b[32m━━━━━━━━━━━━━━━━━━━━\u001b[0m\u001b[37m\u001b[0m \u001b[1m0s\u001b[0m 1ms/step - accuracy: 0.9218 - loss: 0.1986 - val_accuracy: 0.9351 - val_loss: 0.1642 - learning_rate: 0.0010\n",
      "Epoch 11/100\n",
      "\u001b[1m197/197\u001b[0m \u001b[32m━━━━━━━━━━━━━━━━━━━━\u001b[0m\u001b[37m\u001b[0m \u001b[1m0s\u001b[0m 1ms/step - accuracy: 0.9232 - loss: 0.1946 - val_accuracy: 0.9367 - val_loss: 0.1609 - learning_rate: 0.0010\n",
      "Epoch 12/100\n",
      "\u001b[1m197/197\u001b[0m \u001b[32m━━━━━━━━━━━━━━━━━━━━\u001b[0m\u001b[37m\u001b[0m \u001b[1m0s\u001b[0m 1ms/step - accuracy: 0.9236 - loss: 0.1938 - val_accuracy: 0.9368 - val_loss: 0.1608 - learning_rate: 0.0010\n",
      "Epoch 13/100\n",
      "\u001b[1m197/197\u001b[0m \u001b[32m━━━━━━━━━━━━━━━━━━━━\u001b[0m\u001b[37m\u001b[0m \u001b[1m0s\u001b[0m 1ms/step - accuracy: 0.9250 - loss: 0.1921 - val_accuracy: 0.9382 - val_loss: 0.1589 - learning_rate: 0.0010\n",
      "Epoch 14/100\n",
      "\u001b[1m197/197\u001b[0m \u001b[32m━━━━━━━━━━━━━━━━━━━━\u001b[0m\u001b[37m\u001b[0m \u001b[1m0s\u001b[0m 1ms/step - accuracy: 0.9254 - loss: 0.1914 - val_accuracy: 0.9392 - val_loss: 0.1533 - learning_rate: 0.0010\n",
      "Epoch 15/100\n",
      "\u001b[1m197/197\u001b[0m \u001b[32m━━━━━━━━━━━━━━━━━━━━\u001b[0m\u001b[37m\u001b[0m \u001b[1m0s\u001b[0m 1ms/step - accuracy: 0.9296 - loss: 0.1822 - val_accuracy: 0.9397 - val_loss: 0.1510 - learning_rate: 0.0010\n",
      "Epoch 16/100\n",
      "\u001b[1m197/197\u001b[0m \u001b[32m━━━━━━━━━━━━━━━━━━━━\u001b[0m\u001b[37m\u001b[0m \u001b[1m0s\u001b[0m 2ms/step - accuracy: 0.9326 - loss: 0.1800 - val_accuracy: 0.9408 - val_loss: 0.1464 - learning_rate: 0.0010\n",
      "Epoch 17/100\n",
      "\u001b[1m197/197\u001b[0m \u001b[32m━━━━━━━━━━━━━━━━━━━━\u001b[0m\u001b[37m\u001b[0m \u001b[1m0s\u001b[0m 1ms/step - accuracy: 0.9325 - loss: 0.1785 - val_accuracy: 0.9420 - val_loss: 0.1425 - learning_rate: 0.0010\n",
      "Epoch 18/100\n",
      "\u001b[1m197/197\u001b[0m \u001b[32m━━━━━━━━━━━━━━━━━━━━\u001b[0m\u001b[37m\u001b[0m \u001b[1m0s\u001b[0m 1ms/step - accuracy: 0.9339 - loss: 0.1755 - val_accuracy: 0.9429 - val_loss: 0.1401 - learning_rate: 0.0010\n",
      "Epoch 19/100\n",
      "\u001b[1m197/197\u001b[0m \u001b[32m━━━━━━━━━━━━━━━━━━━━\u001b[0m\u001b[37m\u001b[0m \u001b[1m0s\u001b[0m 1ms/step - accuracy: 0.9329 - loss: 0.1763 - val_accuracy: 0.9434 - val_loss: 0.1388 - learning_rate: 0.0010\n",
      "Epoch 20/100\n",
      "\u001b[1m197/197\u001b[0m \u001b[32m━━━━━━━━━━━━━━━━━━━━\u001b[0m\u001b[37m\u001b[0m \u001b[1m0s\u001b[0m 1ms/step - accuracy: 0.9361 - loss: 0.1719 - val_accuracy: 0.9424 - val_loss: 0.1362 - learning_rate: 0.0010\n",
      "Epoch 21/100\n",
      "\u001b[1m197/197\u001b[0m \u001b[32m━━━━━━━━━━━━━━━━━━━━\u001b[0m\u001b[37m\u001b[0m \u001b[1m0s\u001b[0m 1ms/step - accuracy: 0.9358 - loss: 0.1686 - val_accuracy: 0.9486 - val_loss: 0.1329 - learning_rate: 0.0010\n",
      "Epoch 22/100\n",
      "\u001b[1m197/197\u001b[0m \u001b[32m━━━━━━━━━━━━━━━━━━━━\u001b[0m\u001b[37m\u001b[0m \u001b[1m0s\u001b[0m 1ms/step - accuracy: 0.9373 - loss: 0.1669 - val_accuracy: 0.9503 - val_loss: 0.1325 - learning_rate: 0.0010\n",
      "Epoch 23/100\n",
      "\u001b[1m197/197\u001b[0m \u001b[32m━━━━━━━━━━━━━━━━━━━━\u001b[0m\u001b[37m\u001b[0m \u001b[1m0s\u001b[0m 1ms/step - accuracy: 0.9371 - loss: 0.1697 - val_accuracy: 0.9501 - val_loss: 0.1302 - learning_rate: 0.0010\n",
      "Epoch 24/100\n",
      "\u001b[1m197/197\u001b[0m \u001b[32m━━━━━━━━━━━━━━━━━━━━\u001b[0m\u001b[37m\u001b[0m \u001b[1m0s\u001b[0m 1ms/step - accuracy: 0.9386 - loss: 0.1629 - val_accuracy: 0.9516 - val_loss: 0.1306 - learning_rate: 0.0010\n",
      "Epoch 25/100\n",
      "\u001b[1m197/197\u001b[0m \u001b[32m━━━━━━━━━━━━━━━━━━━━\u001b[0m\u001b[37m\u001b[0m \u001b[1m0s\u001b[0m 1ms/step - accuracy: 0.9412 - loss: 0.1598 - val_accuracy: 0.9519 - val_loss: 0.1284 - learning_rate: 0.0010\n",
      "Epoch 26/100\n",
      "\u001b[1m197/197\u001b[0m \u001b[32m━━━━━━━━━━━━━━━━━━━━\u001b[0m\u001b[37m\u001b[0m \u001b[1m0s\u001b[0m 1ms/step - accuracy: 0.9406 - loss: 0.1593 - val_accuracy: 0.9506 - val_loss: 0.1282 - learning_rate: 0.0010\n",
      "Epoch 27/100\n",
      "\u001b[1m197/197\u001b[0m \u001b[32m━━━━━━━━━━━━━━━━━━━━\u001b[0m\u001b[37m\u001b[0m \u001b[1m0s\u001b[0m 1ms/step - accuracy: 0.9413 - loss: 0.1587 - val_accuracy: 0.9522 - val_loss: 0.1228 - learning_rate: 0.0010\n",
      "Epoch 28/100\n",
      "\u001b[1m197/197\u001b[0m \u001b[32m━━━━━━━━━━━━━━━━━━━━\u001b[0m\u001b[37m\u001b[0m \u001b[1m0s\u001b[0m 1ms/step - accuracy: 0.9429 - loss: 0.1597 - val_accuracy: 0.9526 - val_loss: 0.1231 - learning_rate: 0.0010\n",
      "Epoch 29/100\n",
      "\u001b[1m197/197\u001b[0m \u001b[32m━━━━━━━━━━━━━━━━━━━━\u001b[0m\u001b[37m\u001b[0m \u001b[1m0s\u001b[0m 1ms/step - accuracy: 0.9410 - loss: 0.1602 - val_accuracy: 0.9506 - val_loss: 0.1251 - learning_rate: 0.0010\n",
      "Epoch 30/100\n",
      "\u001b[1m197/197\u001b[0m \u001b[32m━━━━━━━━━━━━━━━━━━━━\u001b[0m\u001b[37m\u001b[0m \u001b[1m0s\u001b[0m 1ms/step - accuracy: 0.9403 - loss: 0.1587 - val_accuracy: 0.9527 - val_loss: 0.1238 - learning_rate: 0.0010\n",
      "Epoch 31/100\n",
      "\u001b[1m197/197\u001b[0m \u001b[32m━━━━━━━━━━━━━━━━━━━━\u001b[0m\u001b[37m\u001b[0m \u001b[1m0s\u001b[0m 1ms/step - accuracy: 0.9456 - loss: 0.1497 - val_accuracy: 0.9515 - val_loss: 0.1270 - learning_rate: 0.0010\n",
      "Epoch 32/100\n",
      "\u001b[1m197/197\u001b[0m \u001b[32m━━━━━━━━━━━━━━━━━━━━\u001b[0m\u001b[37m\u001b[0m \u001b[1m0s\u001b[0m 1ms/step - accuracy: 0.9422 - loss: 0.1558 - val_accuracy: 0.9506 - val_loss: 0.1270 - learning_rate: 0.0010\n",
      "Epoch 33/100\n",
      "\u001b[1m197/197\u001b[0m \u001b[32m━━━━━━━━━━━━━━━━━━━━\u001b[0m\u001b[37m\u001b[0m \u001b[1m0s\u001b[0m 1ms/step - accuracy: 0.9449 - loss: 0.1528 - val_accuracy: 0.9534 - val_loss: 0.1197 - learning_rate: 0.0010\n",
      "Epoch 34/100\n",
      "\u001b[1m197/197\u001b[0m \u001b[32m━━━━━━━━━━━━━━━━━━━━\u001b[0m\u001b[37m\u001b[0m \u001b[1m0s\u001b[0m 1ms/step - accuracy: 0.9432 - loss: 0.1546 - val_accuracy: 0.9525 - val_loss: 0.1185 - learning_rate: 0.0010\n",
      "Epoch 35/100\n",
      "\u001b[1m197/197\u001b[0m \u001b[32m━━━━━━━━━━━━━━━━━━━━\u001b[0m\u001b[37m\u001b[0m \u001b[1m0s\u001b[0m 1ms/step - accuracy: 0.9443 - loss: 0.1518 - val_accuracy: 0.9531 - val_loss: 0.1196 - learning_rate: 0.0010\n",
      "Epoch 36/100\n",
      "\u001b[1m197/197\u001b[0m \u001b[32m━━━━━━━━━━━━━━━━━━━━\u001b[0m\u001b[37m\u001b[0m \u001b[1m0s\u001b[0m 1ms/step - accuracy: 0.9414 - loss: 0.1528 - val_accuracy: 0.9538 - val_loss: 0.1202 - learning_rate: 0.0010\n",
      "Epoch 37/100\n",
      "\u001b[1m197/197\u001b[0m \u001b[32m━━━━━━━━━━━━━━━━━━━━\u001b[0m\u001b[37m\u001b[0m \u001b[1m0s\u001b[0m 1ms/step - accuracy: 0.9422 - loss: 0.1539 - val_accuracy: 0.9528 - val_loss: 0.1185 - learning_rate: 0.0010\n",
      "Epoch 38/100\n",
      "\u001b[1m197/197\u001b[0m \u001b[32m━━━━━━━━━━━━━━━━━━━━\u001b[0m\u001b[37m\u001b[0m \u001b[1m0s\u001b[0m 2ms/step - accuracy: 0.9462 - loss: 0.1484 - val_accuracy: 0.9546 - val_loss: 0.1197 - learning_rate: 0.0010\n",
      "Epoch 39/100\n",
      "\u001b[1m197/197\u001b[0m \u001b[32m━━━━━━━━━━━━━━━━━━━━\u001b[0m\u001b[37m\u001b[0m \u001b[1m0s\u001b[0m 1ms/step - accuracy: 0.9449 - loss: 0.1497 - val_accuracy: 0.9536 - val_loss: 0.1174 - learning_rate: 0.0010\n",
      "Epoch 40/100\n",
      "\u001b[1m197/197\u001b[0m \u001b[32m━━━━━━━━━━━━━━━━━━━━\u001b[0m\u001b[37m\u001b[0m \u001b[1m0s\u001b[0m 1ms/step - accuracy: 0.9456 - loss: 0.1487 - val_accuracy: 0.9551 - val_loss: 0.1132 - learning_rate: 0.0010\n",
      "Epoch 41/100\n",
      "\u001b[1m197/197\u001b[0m \u001b[32m━━━━━━━━━━━━━━━━━━━━\u001b[0m\u001b[37m\u001b[0m \u001b[1m0s\u001b[0m 1ms/step - accuracy: 0.9460 - loss: 0.1476 - val_accuracy: 0.9539 - val_loss: 0.1181 - learning_rate: 0.0010\n",
      "Epoch 42/100\n",
      "\u001b[1m197/197\u001b[0m \u001b[32m━━━━━━━━━━━━━━━━━━━━\u001b[0m\u001b[37m\u001b[0m \u001b[1m0s\u001b[0m 1ms/step - accuracy: 0.9461 - loss: 0.1467 - val_accuracy: 0.9543 - val_loss: 0.1133 - learning_rate: 0.0010\n",
      "Epoch 43/100\n",
      "\u001b[1m197/197\u001b[0m \u001b[32m━━━━━━━━━━━━━━━━━━━━\u001b[0m\u001b[37m\u001b[0m \u001b[1m0s\u001b[0m 1ms/step - accuracy: 0.9450 - loss: 0.1489 - val_accuracy: 0.9548 - val_loss: 0.1144 - learning_rate: 0.0010\n",
      "Epoch 44/100\n",
      "\u001b[1m197/197\u001b[0m \u001b[32m━━━━━━━━━━━━━━━━━━━━\u001b[0m\u001b[37m\u001b[0m \u001b[1m0s\u001b[0m 1ms/step - accuracy: 0.9448 - loss: 0.1487 - val_accuracy: 0.9536 - val_loss: 0.1141 - learning_rate: 0.0010\n",
      "Epoch 45/100\n",
      "\u001b[1m197/197\u001b[0m \u001b[32m━━━━━━━━━━━━━━━━━━━━\u001b[0m\u001b[37m\u001b[0m \u001b[1m0s\u001b[0m 1ms/step - accuracy: 0.9459 - loss: 0.1459 - val_accuracy: 0.9537 - val_loss: 0.1131 - learning_rate: 0.0010\n",
      "Epoch 46/100\n",
      "\u001b[1m197/197\u001b[0m \u001b[32m━━━━━━━━━━━━━━━━━━━━\u001b[0m\u001b[37m\u001b[0m \u001b[1m0s\u001b[0m 1ms/step - accuracy: 0.9453 - loss: 0.1486 - val_accuracy: 0.9532 - val_loss: 0.1121 - learning_rate: 0.0010\n",
      "Epoch 47/100\n",
      "\u001b[1m197/197\u001b[0m \u001b[32m━━━━━━━━━━━━━━━━━━━━\u001b[0m\u001b[37m\u001b[0m \u001b[1m0s\u001b[0m 1ms/step - accuracy: 0.9449 - loss: 0.1501 - val_accuracy: 0.9544 - val_loss: 0.1151 - learning_rate: 0.0010\n",
      "Epoch 48/100\n",
      "\u001b[1m197/197\u001b[0m \u001b[32m━━━━━━━━━━━━━━━━━━━━\u001b[0m\u001b[37m\u001b[0m \u001b[1m0s\u001b[0m 1ms/step - accuracy: 0.9454 - loss: 0.1460 - val_accuracy: 0.9550 - val_loss: 0.1079 - learning_rate: 0.0010\n",
      "Epoch 49/100\n",
      "\u001b[1m197/197\u001b[0m \u001b[32m━━━━━━━━━━━━━━━━━━━━\u001b[0m\u001b[37m\u001b[0m \u001b[1m0s\u001b[0m 1ms/step - accuracy: 0.9452 - loss: 0.1448 - val_accuracy: 0.9544 - val_loss: 0.1081 - learning_rate: 0.0010\n",
      "Epoch 50/100\n",
      "\u001b[1m197/197\u001b[0m \u001b[32m━━━━━━━━━━━━━━━━━━━━\u001b[0m\u001b[37m\u001b[0m \u001b[1m0s\u001b[0m 1ms/step - accuracy: 0.9452 - loss: 0.1455 - val_accuracy: 0.9544 - val_loss: 0.1126 - learning_rate: 0.0010\n",
      "Epoch 51/100\n",
      "\u001b[1m197/197\u001b[0m \u001b[32m━━━━━━━━━━━━━━━━━━━━\u001b[0m\u001b[37m\u001b[0m \u001b[1m0s\u001b[0m 1ms/step - accuracy: 0.9445 - loss: 0.1470 - val_accuracy: 0.9534 - val_loss: 0.1158 - learning_rate: 0.0010\n",
      "Epoch 52/100\n",
      "\u001b[1m197/197\u001b[0m \u001b[32m━━━━━━━━━━━━━━━━━━━━\u001b[0m\u001b[37m\u001b[0m \u001b[1m0s\u001b[0m 1ms/step - accuracy: 0.9448 - loss: 0.1465 - val_accuracy: 0.9555 - val_loss: 0.1062 - learning_rate: 0.0010\n",
      "Epoch 53/100\n",
      "\u001b[1m197/197\u001b[0m \u001b[32m━━━━━━━━━━━━━━━━━━━━\u001b[0m\u001b[37m\u001b[0m \u001b[1m0s\u001b[0m 1ms/step - accuracy: 0.9456 - loss: 0.1453 - val_accuracy: 0.9553 - val_loss: 0.1075 - learning_rate: 0.0010\n",
      "Epoch 54/100\n",
      "\u001b[1m197/197\u001b[0m \u001b[32m━━━━━━━━━━━━━━━━━━━━\u001b[0m\u001b[37m\u001b[0m \u001b[1m0s\u001b[0m 1ms/step - accuracy: 0.9478 - loss: 0.1442 - val_accuracy: 0.9542 - val_loss: 0.1110 - learning_rate: 0.0010\n",
      "Epoch 55/100\n",
      "\u001b[1m197/197\u001b[0m \u001b[32m━━━━━━━━━━━━━━━━━━━━\u001b[0m\u001b[37m\u001b[0m \u001b[1m0s\u001b[0m 2ms/step - accuracy: 0.9456 - loss: 0.1430 - val_accuracy: 0.9550 - val_loss: 0.1072 - learning_rate: 0.0010\n",
      "Epoch 56/100\n",
      "\u001b[1m197/197\u001b[0m \u001b[32m━━━━━━━━━━━━━━━━━━━━\u001b[0m\u001b[37m\u001b[0m \u001b[1m0s\u001b[0m 1ms/step - accuracy: 0.9462 - loss: 0.1438 - val_accuracy: 0.9556 - val_loss: 0.1071 - learning_rate: 0.0010\n",
      "Epoch 57/100\n",
      "\u001b[1m197/197\u001b[0m \u001b[32m━━━━━━━━━━━━━━━━━━━━\u001b[0m\u001b[37m\u001b[0m \u001b[1m0s\u001b[0m 1ms/step - accuracy: 0.9464 - loss: 0.1423 - val_accuracy: 0.9550 - val_loss: 0.1082 - learning_rate: 0.0010\n",
      "Epoch 58/100\n",
      "\u001b[1m197/197\u001b[0m \u001b[32m━━━━━━━━━━━━━━━━━━━━\u001b[0m\u001b[37m\u001b[0m \u001b[1m0s\u001b[0m 1ms/step - accuracy: 0.9464 - loss: 0.1449 - val_accuracy: 0.9561 - val_loss: 0.1054 - learning_rate: 0.0010\n",
      "Epoch 59/100\n",
      "\u001b[1m197/197\u001b[0m \u001b[32m━━━━━━━━━━━━━━━━━━━━\u001b[0m\u001b[37m\u001b[0m \u001b[1m0s\u001b[0m 1ms/step - accuracy: 0.9450 - loss: 0.1427 - val_accuracy: 0.9546 - val_loss: 0.1075 - learning_rate: 0.0010\n",
      "Epoch 60/100\n",
      "\u001b[1m197/197\u001b[0m \u001b[32m━━━━━━━━━━━━━━━━━━━━\u001b[0m\u001b[37m\u001b[0m \u001b[1m0s\u001b[0m 1ms/step - accuracy: 0.9445 - loss: 0.1466 - val_accuracy: 0.9554 - val_loss: 0.1101 - learning_rate: 0.0010\n",
      "Epoch 61/100\n",
      "\u001b[1m197/197\u001b[0m \u001b[32m━━━━━━━━━━━━━━━━━━━━\u001b[0m\u001b[37m\u001b[0m \u001b[1m0s\u001b[0m 1ms/step - accuracy: 0.9454 - loss: 0.1422 - val_accuracy: 0.9548 - val_loss: 0.1085 - learning_rate: 0.0010\n",
      "Epoch 62/100\n",
      "\u001b[1m197/197\u001b[0m \u001b[32m━━━━━━━━━━━━━━━━━━━━\u001b[0m\u001b[37m\u001b[0m \u001b[1m0s\u001b[0m 1ms/step - accuracy: 0.9475 - loss: 0.1409 - val_accuracy: 0.9555 - val_loss: 0.1042 - learning_rate: 0.0010\n",
      "Epoch 63/100\n",
      "\u001b[1m197/197\u001b[0m \u001b[32m━━━━━━━━━━━━━━━━━━━━\u001b[0m\u001b[37m\u001b[0m \u001b[1m0s\u001b[0m 1ms/step - accuracy: 0.9466 - loss: 0.1441 - val_accuracy: 0.9553 - val_loss: 0.1057 - learning_rate: 0.0010\n",
      "Epoch 64/100\n",
      "\u001b[1m197/197\u001b[0m \u001b[32m━━━━━━━━━━━━━━━━━━━━\u001b[0m\u001b[37m\u001b[0m \u001b[1m0s\u001b[0m 1ms/step - accuracy: 0.9477 - loss: 0.1402 - val_accuracy: 0.9546 - val_loss: 0.1059 - learning_rate: 0.0010\n",
      "Epoch 65/100\n",
      "\u001b[1m197/197\u001b[0m \u001b[32m━━━━━━━━━━━━━━━━━━━━\u001b[0m\u001b[37m\u001b[0m \u001b[1m0s\u001b[0m 1ms/step - accuracy: 0.9480 - loss: 0.1400 - val_accuracy: 0.9561 - val_loss: 0.1047 - learning_rate: 0.0010\n",
      "Epoch 66/100\n",
      "\u001b[1m197/197\u001b[0m \u001b[32m━━━━━━━━━━━━━━━━━━━━\u001b[0m\u001b[37m\u001b[0m \u001b[1m0s\u001b[0m 1ms/step - accuracy: 0.9453 - loss: 0.1418 - val_accuracy: 0.9551 - val_loss: 0.1087 - learning_rate: 0.0010\n",
      "Epoch 67/100\n",
      "\u001b[1m197/197\u001b[0m \u001b[32m━━━━━━━━━━━━━━━━━━━━\u001b[0m\u001b[37m\u001b[0m \u001b[1m0s\u001b[0m 1ms/step - accuracy: 0.9466 - loss: 0.1406 - val_accuracy: 0.9533 - val_loss: 0.1166 - learning_rate: 0.0010\n",
      "Epoch 68/100\n",
      "\u001b[1m197/197\u001b[0m \u001b[32m━━━━━━━━━━━━━━━━━━━━\u001b[0m\u001b[37m\u001b[0m \u001b[1m0s\u001b[0m 2ms/step - accuracy: 0.9456 - loss: 0.1431 - val_accuracy: 0.9547 - val_loss: 0.1078 - learning_rate: 0.0010\n",
      "Epoch 69/100\n",
      "\u001b[1m197/197\u001b[0m \u001b[32m━━━━━━━━━━━━━━━━━━━━\u001b[0m\u001b[37m\u001b[0m \u001b[1m0s\u001b[0m 2ms/step - accuracy: 0.9474 - loss: 0.1403 - val_accuracy: 0.9553 - val_loss: 0.1036 - learning_rate: 0.0010\n",
      "Epoch 70/100\n",
      "\u001b[1m197/197\u001b[0m \u001b[32m━━━━━━━━━━━━━━━━━━━━\u001b[0m\u001b[37m\u001b[0m \u001b[1m0s\u001b[0m 1ms/step - accuracy: 0.9472 - loss: 0.1406 - val_accuracy: 0.9552 - val_loss: 0.1064 - learning_rate: 0.0010\n",
      "Epoch 71/100\n",
      "\u001b[1m197/197\u001b[0m \u001b[32m━━━━━━━━━━━━━━━━━━━━\u001b[0m\u001b[37m\u001b[0m \u001b[1m0s\u001b[0m 1ms/step - accuracy: 0.9485 - loss: 0.1376 - val_accuracy: 0.9555 - val_loss: 0.1050 - learning_rate: 0.0010\n",
      "Epoch 72/100\n",
      "\u001b[1m197/197\u001b[0m \u001b[32m━━━━━━━━━━━━━━━━━━━━\u001b[0m\u001b[37m\u001b[0m \u001b[1m0s\u001b[0m 1ms/step - accuracy: 0.9478 - loss: 0.1379 - val_accuracy: 0.9559 - val_loss: 0.1109 - learning_rate: 0.0010\n",
      "Epoch 73/100\n",
      "\u001b[1m197/197\u001b[0m \u001b[32m━━━━━━━━━━━━━━━━━━━━\u001b[0m\u001b[37m\u001b[0m \u001b[1m0s\u001b[0m 1ms/step - accuracy: 0.9467 - loss: 0.1410 - val_accuracy: 0.9555 - val_loss: 0.1051 - learning_rate: 0.0010\n",
      "Epoch 74/100\n",
      "\u001b[1m197/197\u001b[0m \u001b[32m━━━━━━━━━━━━━━━━━━━━\u001b[0m\u001b[37m\u001b[0m \u001b[1m0s\u001b[0m 1ms/step - accuracy: 0.9475 - loss: 0.1384 - val_accuracy: 0.9559 - val_loss: 0.1070 - learning_rate: 0.0010\n",
      "Epoch 75/100\n",
      "\u001b[1m197/197\u001b[0m \u001b[32m━━━━━━━━━━━━━━━━━━━━\u001b[0m\u001b[37m\u001b[0m \u001b[1m0s\u001b[0m 1ms/step - accuracy: 0.9464 - loss: 0.1405 - val_accuracy: 0.9555 - val_loss: 0.1043 - learning_rate: 0.0010\n",
      "Epoch 76/100\n",
      "\u001b[1m197/197\u001b[0m \u001b[32m━━━━━━━━━━━━━━━━━━━━\u001b[0m\u001b[37m\u001b[0m \u001b[1m0s\u001b[0m 1ms/step - accuracy: 0.9466 - loss: 0.1419 - val_accuracy: 0.9533 - val_loss: 0.1075 - learning_rate: 0.0010\n",
      "Epoch 77/100\n",
      "\u001b[1m197/197\u001b[0m \u001b[32m━━━━━━━━━━━━━━━━━━━━\u001b[0m\u001b[37m\u001b[0m \u001b[1m0s\u001b[0m 1ms/step - accuracy: 0.9485 - loss: 0.1374 - val_accuracy: 0.9556 - val_loss: 0.1048 - learning_rate: 0.0010\n",
      "Epoch 78/100\n",
      "\u001b[1m197/197\u001b[0m \u001b[32m━━━━━━━━━━━━━━━━━━━━\u001b[0m\u001b[37m\u001b[0m \u001b[1m0s\u001b[0m 1ms/step - accuracy: 0.9473 - loss: 0.1394 - val_accuracy: 0.9557 - val_loss: 0.1134 - learning_rate: 0.0010\n",
      "Epoch 79/100\n",
      "\u001b[1m197/197\u001b[0m \u001b[32m━━━━━━━━━━━━━━━━━━━━\u001b[0m\u001b[37m\u001b[0m \u001b[1m0s\u001b[0m 2ms/step - accuracy: 0.9469 - loss: 0.1423 - val_accuracy: 0.9554 - val_loss: 0.1034 - learning_rate: 0.0010\n",
      "Epoch 80/100\n",
      "\u001b[1m197/197\u001b[0m \u001b[32m━━━━━━━━━━━━━━━━━━━━\u001b[0m\u001b[37m\u001b[0m \u001b[1m0s\u001b[0m 1ms/step - accuracy: 0.9462 - loss: 0.1419 - val_accuracy: 0.9565 - val_loss: 0.1047 - learning_rate: 0.0010\n",
      "Epoch 81/100\n",
      "\u001b[1m197/197\u001b[0m \u001b[32m━━━━━━━━━━━━━━━━━━━━\u001b[0m\u001b[37m\u001b[0m \u001b[1m0s\u001b[0m 1ms/step - accuracy: 0.9485 - loss: 0.1382 - val_accuracy: 0.9560 - val_loss: 0.1063 - learning_rate: 0.0010\n",
      "Epoch 82/100\n",
      "\u001b[1m197/197\u001b[0m \u001b[32m━━━━━━━━━━━━━━━━━━━━\u001b[0m\u001b[37m\u001b[0m \u001b[1m0s\u001b[0m 1ms/step - accuracy: 0.9484 - loss: 0.1393 - val_accuracy: 0.9551 - val_loss: 0.1035 - learning_rate: 0.0010\n",
      "Epoch 83/100\n",
      "\u001b[1m197/197\u001b[0m \u001b[32m━━━━━━━━━━━━━━━━━━━━\u001b[0m\u001b[37m\u001b[0m \u001b[1m0s\u001b[0m 1ms/step - accuracy: 0.9496 - loss: 0.1357 - val_accuracy: 0.9561 - val_loss: 0.1015 - learning_rate: 0.0010\n",
      "Epoch 84/100\n",
      "\u001b[1m197/197\u001b[0m \u001b[32m━━━━━━━━━━━━━━━━━━━━\u001b[0m\u001b[37m\u001b[0m \u001b[1m0s\u001b[0m 1ms/step - accuracy: 0.9475 - loss: 0.1375 - val_accuracy: 0.9552 - val_loss: 0.1052 - learning_rate: 0.0010\n",
      "Epoch 85/100\n",
      "\u001b[1m197/197\u001b[0m \u001b[32m━━━━━━━━━━━━━━━━━━━━\u001b[0m\u001b[37m\u001b[0m \u001b[1m0s\u001b[0m 1ms/step - accuracy: 0.9476 - loss: 0.1388 - val_accuracy: 0.9559 - val_loss: 0.1036 - learning_rate: 0.0010\n",
      "Epoch 86/100\n",
      "\u001b[1m197/197\u001b[0m \u001b[32m━━━━━━━━━━━━━━━━━━━━\u001b[0m\u001b[37m\u001b[0m \u001b[1m0s\u001b[0m 1ms/step - accuracy: 0.9479 - loss: 0.1381 - val_accuracy: 0.9553 - val_loss: 0.1071 - learning_rate: 0.0010\n",
      "Epoch 87/100\n",
      "\u001b[1m197/197\u001b[0m \u001b[32m━━━━━━━━━━━━━━━━━━━━\u001b[0m\u001b[37m\u001b[0m \u001b[1m0s\u001b[0m 1ms/step - accuracy: 0.9474 - loss: 0.1395 - val_accuracy: 0.9555 - val_loss: 0.1031 - learning_rate: 0.0010\n",
      "Epoch 88/100\n",
      "\u001b[1m197/197\u001b[0m \u001b[32m━━━━━━━━━━━━━━━━━━━━\u001b[0m\u001b[37m\u001b[0m \u001b[1m0s\u001b[0m 1ms/step - accuracy: 0.9487 - loss: 0.1377 - val_accuracy: 0.9563 - val_loss: 0.1006 - learning_rate: 0.0010\n",
      "Epoch 89/100\n",
      "\u001b[1m197/197\u001b[0m \u001b[32m━━━━━━━━━━━━━━━━━━━━\u001b[0m\u001b[37m\u001b[0m \u001b[1m0s\u001b[0m 2ms/step - accuracy: 0.9478 - loss: 0.1385 - val_accuracy: 0.9566 - val_loss: 0.1027 - learning_rate: 0.0010\n",
      "Epoch 90/100\n",
      "\u001b[1m197/197\u001b[0m \u001b[32m━━━━━━━━━━━━━━━━━━━━\u001b[0m\u001b[37m\u001b[0m \u001b[1m0s\u001b[0m 1ms/step - accuracy: 0.9486 - loss: 0.1369 - val_accuracy: 0.9563 - val_loss: 0.0998 - learning_rate: 0.0010\n",
      "Epoch 91/100\n",
      "\u001b[1m197/197\u001b[0m \u001b[32m━━━━━━━━━━━━━━━━━━━━\u001b[0m\u001b[37m\u001b[0m \u001b[1m0s\u001b[0m 1ms/step - accuracy: 0.9482 - loss: 0.1378 - val_accuracy: 0.9546 - val_loss: 0.1054 - learning_rate: 0.0010\n",
      "Epoch 92/100\n",
      "\u001b[1m197/197\u001b[0m \u001b[32m━━━━━━━━━━━━━━━━━━━━\u001b[0m\u001b[37m\u001b[0m \u001b[1m0s\u001b[0m 1ms/step - accuracy: 0.9499 - loss: 0.1357 - val_accuracy: 0.9561 - val_loss: 0.1040 - learning_rate: 0.0010\n",
      "Epoch 93/100\n",
      "\u001b[1m197/197\u001b[0m \u001b[32m━━━━━━━━━━━━━━━━━━━━\u001b[0m\u001b[37m\u001b[0m \u001b[1m0s\u001b[0m 1ms/step - accuracy: 0.9496 - loss: 0.1334 - val_accuracy: 0.9553 - val_loss: 0.1050 - learning_rate: 0.0010\n",
      "Epoch 94/100\n",
      "\u001b[1m197/197\u001b[0m \u001b[32m━━━━━━━━━━━━━━━━━━━━\u001b[0m\u001b[37m\u001b[0m \u001b[1m0s\u001b[0m 1ms/step - accuracy: 0.9491 - loss: 0.1377 - val_accuracy: 0.9555 - val_loss: 0.1032 - learning_rate: 0.0010\n",
      "Epoch 95/100\n",
      "\u001b[1m197/197\u001b[0m \u001b[32m━━━━━━━━━━━━━━━━━━━━\u001b[0m\u001b[37m\u001b[0m \u001b[1m0s\u001b[0m 1ms/step - accuracy: 0.9484 - loss: 0.1375 - val_accuracy: 0.9568 - val_loss: 0.1064 - learning_rate: 0.0010\n",
      "Epoch 96/100\n",
      "\u001b[1m197/197\u001b[0m \u001b[32m━━━━━━━━━━━━━━━━━━━━\u001b[0m\u001b[37m\u001b[0m \u001b[1m0s\u001b[0m 1ms/step - accuracy: 0.9509 - loss: 0.1338 - val_accuracy: 0.9566 - val_loss: 0.1005 - learning_rate: 0.0010\n",
      "Epoch 97/100\n",
      "\u001b[1m197/197\u001b[0m \u001b[32m━━━━━━━━━━━━━━━━━━━━\u001b[0m\u001b[37m\u001b[0m \u001b[1m0s\u001b[0m 1ms/step - accuracy: 0.9472 - loss: 0.1401 - val_accuracy: 0.9550 - val_loss: 0.1087 - learning_rate: 0.0010\n",
      "Epoch 98/100\n",
      "\u001b[1m197/197\u001b[0m \u001b[32m━━━━━━━━━━━━━━━━━━━━\u001b[0m\u001b[37m\u001b[0m \u001b[1m0s\u001b[0m 2ms/step - accuracy: 0.9473 - loss: 0.1384 - val_accuracy: 0.9552 - val_loss: 0.1052 - learning_rate: 0.0010\n",
      "Epoch 99/100\n",
      "\u001b[1m197/197\u001b[0m \u001b[32m━━━━━━━━━━━━━━━━━━━━\u001b[0m\u001b[37m\u001b[0m \u001b[1m0s\u001b[0m 1ms/step - accuracy: 0.9483 - loss: 0.1370 - val_accuracy: 0.9558 - val_loss: 0.1055 - learning_rate: 0.0010\n",
      "Epoch 100/100\n",
      "\u001b[1m197/197\u001b[0m \u001b[32m━━━━━━━━━━━━━━━━━━━━\u001b[0m\u001b[37m\u001b[0m \u001b[1m0s\u001b[0m 1ms/step - accuracy: 0.9488 - loss: 0.1388 - val_accuracy: 0.9557 - val_loss: 0.1021 - learning_rate: 0.0010\n",
      "CPU times: user 52.7 s, sys: 3.28 s, total: 56 s\n",
      "Wall time: 30.9 s\n"
     ]
    }
   ],
   "source": [
    "%%time\n",
    "\n",
    "# Define the model\n",
    "model = Sequential()\n",
    "model.add(Dense(33, input_dim=x_train.shape[1], activation='relu'))\n",
    "model.add(BatchNormalization())\n",
    "model.add(Dropout(0.5))\n",
    "model.add(Dense(64, activation='relu'))\n",
    "model.add(BatchNormalization())\n",
    "model.add(Dropout(0.5))\n",
    "model.add(Dense(16, activation='relu'))\n",
    "model.add(BatchNormalization())\n",
    "model.add(Dropout(0.5))\n",
    "model.add(Dense(1, activation='sigmoid')) \n",
    "\n",
    "# Compile the model\n",
    "model.compile(loss='binary_crossentropy', optimizer='adam', metrics=['accuracy']) \n",
    "\n",
    "# Define early stopping\n",
    "monitor = tf.keras.callbacks.ReduceLROnPlateau(monitor=\"loss\",factor=0.5,mode=\"min\",patience=10,verbose=1,min_lr=1e-7)\n",
    "checkpoint = ModelCheckpoint('Saved-Models/nsl_kdd-dnn.keras', monitor='val_loss', save_best_only=True)\n",
    "\n",
    "# Train the model\n",
    "history = model.fit(x_train, y_train, validation_data=(x_train_test, y_train_test), epochs=100, batch_size=512, callbacks=[monitor, checkpoint])"
   ]
  },
  {
   "cell_type": "code",
   "execution_count": 22,
   "id": "0eb0578e-2a38-4990-a3f6-7182d7a3c1fe",
   "metadata": {},
   "outputs": [
    {
     "name": "stdout",
     "output_type": "stream",
     "text": [
      "\u001b[1m788/788\u001b[0m \u001b[32m━━━━━━━━━━━━━━━━━━━━\u001b[0m\u001b[37m\u001b[0m \u001b[1m0s\u001b[0m 342us/step - accuracy: 0.9562 - loss: 0.1017\n",
      "\n",
      "Test loss: 0.10017713904380798\n",
      "Test accuracy: 0.956261157989502\n"
     ]
    }
   ],
   "source": [
    "# Load the best saved model\n",
    "best_model = load_model('Saved-Models/nsl_kdd-dnn.keras')\n",
    "\n",
    "# Evaluate the best saved model\n",
    "score = best_model.evaluate(x_train_test, y_train_test)\n",
    "print('')\n",
    "print('Test loss:', score[0])\n",
    "print('Test accuracy:', score[1])"
   ]
  },
  {
   "cell_type": "code",
   "execution_count": 23,
   "id": "cde74961-9e47-4d37-a463-ae47bcff3435",
   "metadata": {},
   "outputs": [
    {
     "data": {
      "image/png": "[encoded data removed]",
      "text/plain": [
       "<Figure size 2000x1600 with 1 Axes>"
      ]
     },
     "metadata": {},
     "output_type": "display_data"
    }
   ],
   "source": [
    "fig, ax = plt.subplots(figsize=(20, 16))\n",
    "\n",
    "ax.plot(history.history['loss'], label='train')\n",
    "ax.plot(history.history['val_loss'], label='test')\n",
    "ax.set_title('Model Loss')\n",
    "ax.set_ylabel('Loss')\n",
    "ax.set_xlabel('Epoch')\n",
    "ax.legend(['Train', 'Test'], loc='upper right')\n",
    "plt.show()"
   ]
  },
  {
   "cell_type": "code",
   "execution_count": 24,
   "id": "fd33c7fe-f9f7-43c1-b499-a23f04bf85c3",
   "metadata": {},
   "outputs": [
    {
     "name": "stdout",
     "output_type": "stream",
     "text": [
      "\u001b[1m788/788\u001b[0m \u001b[32m━━━━━━━━━━━━━━━━━━━━\u001b[0m\u001b[37m\u001b[0m \u001b[1m0s\u001b[0m 447us/step\n"
     ]
    }
   ],
   "source": [
    "pred = model.predict(x_train_test)"
   ]
  },
  {
   "cell_type": "markdown",
   "id": "0c0d5440",
   "metadata": {},
   "source": [
    "## Results"
   ]
  },
  {
   "cell_type": "code",
   "execution_count": 25,
   "id": "93f28ba9",
   "metadata": {},
   "outputs": [],
   "source": [
    "from sklearn.metrics import precision_score\n",
    "from sklearn.metrics import f1_score\n",
    "from sklearn.metrics import recall_score\n",
    "from sklearn.metrics import balanced_accuracy_score\n",
    "from sklearn.metrics import classification_report\n",
    "from sklearn.metrics import accuracy_score\n",
    "\n",
    "\n",
    "def calculate_metrics(modelName, yTrue, yPred, average='binary'):\n",
    "    \"\"\"\n",
    "    Calculate and print the performance metrics of a classification model.\n",
    "    \n",
    "    Parameters:\n",
    "    modelName (str): The name of the classification model.\n",
    "    yTrue (array-like): The true labels.\n",
    "    yPred (array-like): The predicted labels.\n",
    "    average (str or None, optional): The averaging method to use for multi-class classification. One of \n",
    "        {'micro', 'macro', 'weighted', 'binary'} or None (default: 'binary'). If None, only binary \n",
    "        classification metrics will be computed.\n",
    "    \n",
    "    Raises:\n",
    "    ValueError: If `average` is not one of {'micro', 'macro', 'weighted', 'binary'} or None.\n",
    "    \n",
    "    \"\"\"    \n",
    "    # Check if average parameter is valid\n",
    "    if average != 'micro' and average != 'macro' and average != 'weighted' and average != 'binary' and average != None:\n",
    "        print(\"Average must be one of this options: {‘micro’, ‘macro’, ‘samples’, ‘weighted’, ‘binary’} or None, default=’binary’\")\n",
    "        return\n",
    "    \n",
    "    # Prints the name of the model and calculate accuracy and precision\n",
    "    print(f\"--- Performance of {modelName} ---\")\n",
    "    acc = accuracy_score(y_true = yTrue, y_pred = yPred)\n",
    "    precision = precision_score(y_true = yTrue, y_pred = yPred, average = average)\n",
    "    print(f'Accuracy : {np.round(acc*100,2)}%\\nPrecision: {np.round(precision*100,2)}%')\n",
    "    \n",
    "    # Calculates and print recall and F1-score\n",
    "    f1 = f1_score(y_true = yTrue, y_pred = yPred, average = average)\n",
    "    recall = recall_score(y_true = yTrue, y_pred = yPred, average = average)\n",
    "    print(f'Recall: {np.round(recall*100,2)}%\\nF1-score: {np.round(f1*100,2)}%')\n",
    "    \n",
    "    #auc_sklearn = roc_auc_score(y_true = yTrue, y_score = yPred, average = average)\n",
    "    #print(f'Roc auc: {np.round(auc_sklearn*100,2)}%')\n",
    "    \n",
    "    # Calculates and prints balanced accuracy and classification report\n",
    "    print(f\"Balanced accuracy: {np.round(balanced_accuracy_score(yTrue, yPred)*100,2)}%\")\n",
    "    print(f\"Classification report:\\n{classification_report(yTrue, yPred)}\")"
   ]
  },
  {
   "cell_type": "code",
   "execution_count": 26,
   "id": "d95e72b4",
   "metadata": {},
   "outputs": [
    {
     "name": "stdout",
     "output_type": "stream",
     "text": [
      "--- Performance of Binary - DNN ---\n",
      "Accuracy : 95.57%\n",
      "Precision: 93.63%\n",
      "Recall: 98.38%\n",
      "F1-score: 95.95%\n",
      "Balanced accuracy: 95.37%\n",
      "Classification report:\n",
      "              precision    recall  f1-score   support\n",
      "\n",
      "           0       0.98      0.92      0.95     11773\n",
      "           1       0.94      0.98      0.96     13422\n",
      "\n",
      "    accuracy                           0.96     25195\n",
      "   macro avg       0.96      0.95      0.96     25195\n",
      "weighted avg       0.96      0.96      0.96     25195\n",
      "\n"
     ]
    }
   ],
   "source": [
    "pred = np.round(pred).astype(int)\n",
    "calculate_metrics(\"Binary - DNN\", y_train_test, pred)"
   ]
  },
  {
   "cell_type": "code",
   "execution_count": 27,
   "id": "dfdd0a85",
   "metadata": {},
   "outputs": [],
   "source": [
    "# Confusion Matrix\n",
    "from sklearn.metrics import confusion_matrix, ConfusionMatrixDisplay\n",
    "import matplotlib.pyplot as plt\n",
    "import numpy as np\n",
    "\n",
    "def conf_matrix(y_test, prediction, array_dimension = 2):\n",
    "    if (array_dimension == 2):\n",
    "        predict_classes = np.argmax(prediction, axis = 1)\n",
    "        expected_classes = np.argmax(y_test, axis = 1)\n",
    "    elif (array_dimension == 1):\n",
    "        predict_classes = prediction\n",
    "        expected_classes = y_test\n",
    "    \n",
    "    cm = confusion_matrix(expected_classes, predict_classes)\n",
    "    cmd = ConfusionMatrixDisplay(cm, display_labels=['Normal', 'Malicious'])\n",
    "\n",
    "    # Plot size\n",
    "    fig, ax = plt.subplots(figsize=(4,4))\n",
    "    \n",
    "    # Add axis labels and rotate them\n",
    "    ax.set_xlabel('Predicted labels', rotation=0, labelpad=10, fontsize=11)\n",
    "    ax.set_ylabel('True labels', rotation=90, labelpad=10, fontsize=11)\n",
    "    \n",
    "    cmd.plot(ax=ax, cmap=plt.cm.Blues, colorbar=False)\n",
    "\n",
    "    ax.set_xticks([0, 1])\n",
    "    ax.set_yticks([0, 1])\n",
    "    ax.set_xticklabels(['Normal', 'Malicious'])\n",
    "    ax.set_yticklabels(['Normal', 'Malicious'])\n",
    "    \n",
    "    ax.tick_params(axis='x', pad=10)\n",
    "    ax.set_xticklabels(ax.get_xticklabels(), rotation=0, ha='center', va='center')\n",
    "    ax.tick_params(axis='y', pad=10)\n",
    "    ax.set_yticklabels(ax.get_yticklabels(), rotation=90, ha='center', va='center')\n",
    "    \n",
    "    # Adjust colorbar size\n",
    "    cax = plt.gcf().axes[-1]\n",
    "    cax.tick_params(labelsize=11)  # Adjust the font size of colorbar labels\n",
    "    cax = fig.add_axes([ax.get_position().x1+0.03,ax.get_position().y0,0.02,ax.get_position().height])\n",
    "    plt.colorbar(cmd.im_, cax=cax)   "
   ]
  },
  {
   "cell_type": "code",
   "execution_count": 28,
   "id": "d3849d2a",
   "metadata": {
    "scrolled": true
   },
   "outputs": [],
   "source": [
    "def plot_confusion_matrix(cm, target_names, title='Confusion matrix', cmap=None, normalize=False):\n",
    "    if cmap is None:\n",
    "        cmap = plt.get_cmap('Blues')\n",
    "\n",
    "    plt.figure(figsize=(8, 6))\n",
    "    plt.imshowac(cm, interpolation='nearest', cmap=cmap)\n",
    "    plt.title(title)\n",
    "    plt.colorbar()\n",
    "    \n",
    "    if target_names is not None:\n",
    "        tick_marks = np.arange(len(target_names))\n",
    "        plt.xticks(tick_marks, target_names, rotation=90)\n",
    "        plt.yticks(tick_marks, target_names)\n",
    "        \n",
    "    plt.tight_layout()\n",
    "    plt.ylabel('True label')\n",
    "    plt.xlabel('Predicted label\\naccuracy={:0.4f}; misclass={:0.4f}'.format(accuracy, misclass))\n",
    "    plt.show()"
   ]
  },
  {
   "cell_type": "code",
   "execution_count": 29,
   "id": "3e56335d",
   "metadata": {},
   "outputs": [
    {
     "name": "stdout",
     "output_type": "stream",
     "text": [
      "\u001b[1m705/705\u001b[0m \u001b[32m━━━━━━━━━━━━━━━━━━━━\u001b[0m\u001b[37m\u001b[0m \u001b[1m0s\u001b[0m 371us/step\n"
     ]
    }
   ],
   "source": [
    "pred_test = model.predict(x_test)"
   ]
  },
  {
   "cell_type": "code",
   "execution_count": 30,
   "id": "6d727f3b-ce3a-44d7-a6e8-4029d85be45a",
   "metadata": {},
   "outputs": [
    {
     "name": "stdout",
     "output_type": "stream",
     "text": [
      "--- Performance of Binary - DNN ---\n",
      "Accuracy : 76.56%\n",
      "Precision: 65.42%\n",
      "Recall: 96.69%\n",
      "F1-score: 78.04%\n",
      "Balanced accuracy: 79.01%\n",
      "Classification report:\n",
      "              precision    recall  f1-score   support\n",
      "\n",
      "           0       0.96      0.61      0.75     12833\n",
      "           1       0.65      0.97      0.78      9711\n",
      "\n",
      "    accuracy                           0.77     22544\n",
      "   macro avg       0.81      0.79      0.76     22544\n",
      "weighted avg       0.83      0.77      0.76     22544\n",
      "\n"
     ]
    }
   ],
   "source": [
    "pred_test = np.round(pred_test).astype(int)\n",
    "calculate_metrics(\"Binary - DNN\", y_test, pred_test)"
   ]
  },
  {
   "cell_type": "code",
   "execution_count": 31,
   "id": "9c610c50-50ee-4ad6-8e7c-63e291bc0459",
   "metadata": {},
   "outputs": [
    {
     "name": "stdout",
     "output_type": "stream",
     "text": [
      "\n",
      "[CMATRIX] Decision Tree Confusion Matrix\n"
     ]
    },
    {
     "data": {
      "image/png": "[encoded data removed]",
      "text/plain": [
       "<Figure size 400x400 with 2 Axes>"
      ]
     },
     "metadata": {},
     "output_type": "display_data"
    }
   ],
   "source": [
    "print(f'\\n[CMATRIX] Decision Tree Confusion Matrix')\n",
    "conf_matrix(y_test, pred_test, 1)"
   ]
  },
  {
   "cell_type": "code",
   "execution_count": null,
   "id": "a88d667a-bfc3-4fd4-a639-380c4a6574fd",
   "metadata": {},
   "outputs": [],
   "source": []
  }
 ],
 "metadata": {
  "kernelspec": {
   "display_name": "Python 3 (ipykernel)",
   "language": "python",
   "name": "python3"
  },
  "language_info": {
   "codemirror_mode": {
    "name": "ipython",
    "version": 3
   },
   "file_extension": ".py",
   "mimetype": "text/x-python",
   "name": "python",
   "nbconvert_exporter": "python",
   "pygments_lexer": "ipython3",
   "version": "3.10.12"
  }
 },
 "nbformat": 4,
 "nbformat_minor": 5
}
