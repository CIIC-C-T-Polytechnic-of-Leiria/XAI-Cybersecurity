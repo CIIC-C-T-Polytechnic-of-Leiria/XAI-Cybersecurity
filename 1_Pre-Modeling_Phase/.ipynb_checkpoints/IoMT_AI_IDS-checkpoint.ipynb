{
 "cells": [
  {
   "cell_type": "markdown",
   "metadata": {},
   "source": [
    "# Pre-Processing Dataset"
   ]
  },
  {
   "cell_type": "code",
   "execution_count": 1,
   "metadata": {
    "id": "K1li4zpPN_XH"
   },
   "outputs": [],
   "source": [
    "import os\n",
    "import pandas as pd\n",
    "import numpy as np\n",
    "\n",
    "from scipy.stats import zscore\n",
    "\n",
    "from sklearn.preprocessing import LabelEncoder\n",
    "from sklearn.model_selection import train_test_split\n",
    "from sklearn.model_selection import StratifiedKFold\n",
    "from sklearn.preprocessing import LabelBinarizer"
   ]
  },
  {
   "cell_type": "code",
   "execution_count": 2,
   "metadata": {},
   "outputs": [
    {
     "name": "stderr",
     "output_type": "stream",
     "text": [
      "/tmp/ipykernel_54642/3814736681.py:1: DtypeWarning: Columns (6,7,8) have mixed types. Specify dtype option on import or set low_memory=False.\n",
      "  df = pd.read_csv(\"../0_Datasets/IoMT_AI_IDS/Flows/IP-Based Flows Dataset.csv\")\n"
     ]
    }
   ],
   "source": [
    "df = pd.read_csv(\"../0_Datasets/IoMT_AI_IDS/Flows/IP-Based Flows Dataset.csv\")"
   ]
  },
  {
   "cell_type": "code",
   "execution_count": 3,
   "metadata": {},
   "outputs": [],
   "source": [
    "df = df[[\n",
    "#    'id.orig_h', 'id.orig_p', 'id.resp_h', 'id.resp_p', 'proto', 'service',\n",
    "#    'duration', 'orig_bytes', 'resp_bytes', 'conn_state', 'local_orig',\n",
    "#    'local_resp', 'missed_bytes', 'history', 'orig_pkts', 'orig_ip_bytes',\n",
    "#    'resp_pkts', 'resp_ip_bytes', 'tunnel_parents', 'flow_duration',\n",
    "    'fwd_pkts_tot', 'bwd_pkts_tot', 'fwd_data_pkts_tot', 'bwd_data_pkts_tot',\n",
    "    'fwd_pkts_per_sec', 'bwd_pkts_per_sec', 'flow_pkts_per_sec', 'down_up_ratio',\n",
    "    'fwd_header_size_tot', 'fwd_header_size_min', 'fwd_header_size_max',\n",
    "    'bwd_header_size_tot', 'bwd_header_size_min', 'bwd_header_size_max',\n",
    "#    'flow_FIN_flag_count', 'flow_SYN_flag_count', 'flow_RST_flag_count',\n",
    "#    'fwd_PSH_flag_count', 'bwd_PSH_flag_count', 'flow_ACK_flag_count',\n",
    "#    'fwd_URG_flag_count', 'bwd_URG_flag_count', 'flow_CWR_flag_count',\n",
    "#    'flow_ECE_flag_count', \n",
    "    'fwd_pkts_payload.min', 'fwd_pkts_payload.max',\n",
    "    'fwd_pkts_payload.tot', 'fwd_pkts_payload.avg', 'fwd_pkts_payload.std',\n",
    "    'bwd_pkts_payload.min', 'bwd_pkts_payload.max', 'bwd_pkts_payload.tot',\n",
    "    'bwd_pkts_payload.avg', 'bwd_pkts_payload.std', 'flow_pkts_payload.min',\n",
    "    'flow_pkts_payload.max', 'flow_pkts_payload.tot', 'flow_pkts_payload.avg','flow_pkts_payload.std', \n",
    "#    'fwd_iat.min', 'fwd_iat.max', 'fwd_iat.tot','fwd_iat.avg', 'fwd_iat.std', \n",
    "#    'bwd_iat.min', 'bwd_iat.max', 'bwd_iat.tot','bwd_iat.avg', 'bwd_iat.std', \n",
    "#    'flow_iat.min', 'flow_iat.max', 'flow_iat.tot','flow_iat.avg', 'flow_iat.std', 'payload_bytes_per_second',\n",
    "    'fwd_subflow_pkts', 'bwd_subflow_pkts', 'fwd_subflow_bytes',\n",
    "    'bwd_subflow_bytes', \n",
    "# 'fwd_bulk_bytes', 'bwd_bulk_bytes', 'fwd_bulk_packets','bwd_bulk_packets', 'fwd_bulk_rate', 'bwd_bulk_rate', \n",
    "#    'active.min','active.max', 'active.tot', 'active.avg', 'active.std', \n",
    "#    'idle.min','idle.max', 'idle.tot', 'idle.avg', 'idle.std', \n",
    "#    'fwd_init_window_size','bwd_init_window_size', 'fwd_last_window_size', 'bwd_last_window_size',\n",
    "    'traffic', 'is_attack']].copy()"
   ]
  },
  {
   "cell_type": "code",
   "execution_count": 4,
   "metadata": {},
   "outputs": [],
   "source": [
    "features = [\n",
    "    'fwd_pkts_tot', 'bwd_pkts_tot', 'fwd_data_pkts_tot', 'bwd_data_pkts_tot',\n",
    "    'fwd_pkts_per_sec', 'bwd_pkts_per_sec', 'flow_pkts_per_sec', 'down_up_ratio',\n",
    "    'fwd_header_size_tot', 'fwd_header_size_min', 'fwd_header_size_max',\n",
    "    'bwd_header_size_tot', 'bwd_header_size_min', 'bwd_header_size_max',\n",
    "    'fwd_pkts_payload.min', 'fwd_pkts_payload.max',\n",
    "    'fwd_pkts_payload.tot', 'fwd_pkts_payload.avg', 'fwd_pkts_payload.std',\n",
    "    'bwd_pkts_payload.min', 'bwd_pkts_payload.max', 'bwd_pkts_payload.tot',\n",
    "    'bwd_pkts_payload.avg', 'bwd_pkts_payload.std', 'flow_pkts_payload.min',\n",
    "    'flow_pkts_payload.max', 'flow_pkts_payload.tot', 'flow_pkts_payload.avg','flow_pkts_payload.std', \n",
    "    'fwd_subflow_pkts', 'bwd_subflow_pkts', 'fwd_subflow_bytes',\n",
    "    'bwd_subflow_bytes', 'traffic', 'is_attack']"
   ]
  },
  {
   "cell_type": "code",
   "execution_count": 5,
   "metadata": {},
   "outputs": [],
   "source": [
    "features_wo_target = [\n",
    "    'fwd_pkts_tot', 'bwd_pkts_tot', 'fwd_data_pkts_tot', 'bwd_data_pkts_tot',\n",
    "    'fwd_pkts_per_sec', 'bwd_pkts_per_sec', 'flow_pkts_per_sec', 'down_up_ratio',\n",
    "    'fwd_header_size_tot', 'fwd_header_size_min', 'fwd_header_size_max',\n",
    "    'bwd_header_size_tot', 'bwd_header_size_min', 'bwd_header_size_max',\n",
    "    'fwd_pkts_payload.min', 'fwd_pkts_payload.max',\n",
    "    'fwd_pkts_payload.tot', 'fwd_pkts_payload.avg', 'fwd_pkts_payload.std',\n",
    "    'bwd_pkts_payload.min', 'bwd_pkts_payload.max', 'bwd_pkts_payload.tot',\n",
    "    'bwd_pkts_payload.avg', 'bwd_pkts_payload.std', 'flow_pkts_payload.min',\n",
    "    'flow_pkts_payload.max', 'flow_pkts_payload.tot', 'flow_pkts_payload.avg','flow_pkts_payload.std', \n",
    "    'fwd_subflow_pkts', 'bwd_subflow_pkts', 'fwd_subflow_bytes',\n",
    "    'bwd_subflow_bytes']"
   ]
  },
  {
   "cell_type": "code",
   "execution_count": 6,
   "metadata": {},
   "outputs": [
    {
     "data": {
      "text/plain": [
       "(3243188, 35)"
      ]
     },
     "execution_count": 6,
     "metadata": {},
     "output_type": "execute_result"
    }
   ],
   "source": [
    "df.shape"
   ]
  },
  {
   "cell_type": "code",
   "execution_count": 7,
   "metadata": {},
   "outputs": [],
   "source": [
    "# Remove duplicates\n",
    "df = df.loc[~df.duplicated(subset=features)].reset_index(drop=True).copy()"
   ]
  },
  {
   "cell_type": "code",
   "execution_count": 8,
   "metadata": {},
   "outputs": [
    {
     "data": {
      "text/plain": [
       "(275973, 35)"
      ]
     },
     "execution_count": 8,
     "metadata": {},
     "output_type": "execute_result"
    }
   ],
   "source": [
    "df.shape"
   ]
  },
  {
   "cell_type": "code",
   "execution_count": 9,
   "metadata": {},
   "outputs": [],
   "source": [
    "def remove_outliers(df,columns,n_std):\n",
    "    for col in columns:\n",
    "        print(f'[REMOVED OUTLIERS] {col}')\n",
    "        \n",
    "        mean = df[col].mean()\n",
    "        sd = df[col].std()\n",
    "        \n",
    "        df = df[(df[col] <= mean+(n_std*sd))]\n",
    "        \n",
    "    return df"
   ]
  },
  {
   "cell_type": "code",
   "execution_count": 10,
   "metadata": {
    "id": "7G5NkFuBD8lM"
   },
   "outputs": [
    {
     "name": "stdout",
     "output_type": "stream",
     "text": [
      "[REMOVED OUTLIERS] fwd_pkts_tot\n",
      "[REMOVED OUTLIERS] bwd_pkts_tot\n",
      "[REMOVED OUTLIERS] fwd_data_pkts_tot\n",
      "[REMOVED OUTLIERS] bwd_data_pkts_tot\n",
      "[REMOVED OUTLIERS] fwd_pkts_per_sec\n",
      "[REMOVED OUTLIERS] bwd_pkts_per_sec\n",
      "[REMOVED OUTLIERS] flow_pkts_per_sec\n",
      "[REMOVED OUTLIERS] down_up_ratio\n",
      "[REMOVED OUTLIERS] fwd_header_size_tot\n",
      "[REMOVED OUTLIERS] fwd_header_size_min\n",
      "[REMOVED OUTLIERS] fwd_header_size_max\n",
      "[REMOVED OUTLIERS] bwd_header_size_tot\n",
      "[REMOVED OUTLIERS] bwd_header_size_min\n",
      "[REMOVED OUTLIERS] bwd_header_size_max\n",
      "[REMOVED OUTLIERS] fwd_pkts_payload.min\n",
      "[REMOVED OUTLIERS] fwd_pkts_payload.max\n",
      "[REMOVED OUTLIERS] fwd_pkts_payload.tot\n",
      "[REMOVED OUTLIERS] fwd_pkts_payload.avg\n",
      "[REMOVED OUTLIERS] fwd_pkts_payload.std\n",
      "[REMOVED OUTLIERS] bwd_pkts_payload.min\n",
      "[REMOVED OUTLIERS] bwd_pkts_payload.max\n",
      "[REMOVED OUTLIERS] bwd_pkts_payload.tot\n",
      "[REMOVED OUTLIERS] bwd_pkts_payload.avg\n",
      "[REMOVED OUTLIERS] bwd_pkts_payload.std\n",
      "[REMOVED OUTLIERS] flow_pkts_payload.min\n",
      "[REMOVED OUTLIERS] flow_pkts_payload.max\n",
      "[REMOVED OUTLIERS] flow_pkts_payload.tot\n",
      "[REMOVED OUTLIERS] flow_pkts_payload.avg\n",
      "[REMOVED OUTLIERS] flow_pkts_payload.std\n",
      "[REMOVED OUTLIERS] fwd_subflow_pkts\n",
      "[REMOVED OUTLIERS] bwd_subflow_pkts\n",
      "[REMOVED OUTLIERS] fwd_subflow_bytes\n",
      "[REMOVED OUTLIERS] bwd_subflow_bytes\n"
     ]
    }
   ],
   "source": [
    "outliers = features_wo_target\n",
    "\n",
    "df = remove_outliers(df, outliers, 3)"
   ]
  },
  {
   "cell_type": "code",
   "execution_count": 11,
   "metadata": {
    "id": "s68skGdoN_XK"
   },
   "outputs": [],
   "source": [
    "def zscore_normalization(df, cols):\n",
    "    # Standardize the selected columns\n",
    "    for col in cols:\n",
    "        if col not in df.columns:\n",
    "            print(f\"[WARNING] {col} not found in DataFrame.\")\n",
    "            continue\n",
    "        print(f\"[Z-SCORE] {col}\")\n",
    "        df[col] = zscore(df[col])\n",
    "    \n",
    "    print(\"[DONE] Z-score Normalization\")\n",
    "    print(\"[INFO] Current Fields in the DataFrame:\")\n",
    "    return df"
   ]
  },
  {
   "cell_type": "code",
   "execution_count": 12,
   "metadata": {
    "colab": {
     "base_uri": "https://localhost:8080/",
     "height": 522
    },
    "id": "nQdNGsJ-N_XK",
    "outputId": "3721d8a8-a9a0-491f-ddd1-da08e37c1e89",
    "scrolled": true
   },
   "outputs": [
    {
     "name": "stdout",
     "output_type": "stream",
     "text": [
      "[Z-SCORE] fwd_pkts_tot\n",
      "[Z-SCORE] bwd_pkts_tot\n",
      "[Z-SCORE] fwd_data_pkts_tot\n",
      "[Z-SCORE] bwd_data_pkts_tot\n",
      "[Z-SCORE] fwd_pkts_per_sec\n",
      "[Z-SCORE] bwd_pkts_per_sec\n",
      "[Z-SCORE] flow_pkts_per_sec\n",
      "[Z-SCORE] down_up_ratio\n",
      "[Z-SCORE] fwd_header_size_tot\n",
      "[Z-SCORE] fwd_header_size_min\n",
      "[Z-SCORE] fwd_header_size_max\n",
      "[Z-SCORE] bwd_header_size_tot\n",
      "[Z-SCORE] bwd_header_size_min\n",
      "[Z-SCORE] bwd_header_size_max\n",
      "[Z-SCORE] fwd_pkts_payload.min\n",
      "[Z-SCORE] fwd_pkts_payload.max\n",
      "[Z-SCORE] fwd_pkts_payload.tot\n",
      "[Z-SCORE] fwd_pkts_payload.avg\n",
      "[Z-SCORE] fwd_pkts_payload.std\n",
      "[Z-SCORE] bwd_pkts_payload.min\n",
      "[Z-SCORE] bwd_pkts_payload.max\n",
      "[Z-SCORE] bwd_pkts_payload.tot\n",
      "[Z-SCORE] bwd_pkts_payload.avg\n",
      "[Z-SCORE] bwd_pkts_payload.std\n",
      "[Z-SCORE] flow_pkts_payload.min\n",
      "[Z-SCORE] flow_pkts_payload.max\n",
      "[Z-SCORE] flow_pkts_payload.tot\n",
      "[Z-SCORE] flow_pkts_payload.avg\n",
      "[Z-SCORE] flow_pkts_payload.std\n",
      "[Z-SCORE] fwd_subflow_pkts\n",
      "[Z-SCORE] bwd_subflow_pkts\n",
      "[Z-SCORE] fwd_subflow_bytes\n",
      "[Z-SCORE] bwd_subflow_bytes\n",
      "[DONE] Z-score Normalization\n",
      "[INFO] Current Fields in the DataFrame:\n"
     ]
    }
   ],
   "source": [
    "cols_to_zscore = features_wo_target\n",
    "\n",
    "df = zscore_normalization(df, cols_to_zscore)"
   ]
  },
  {
   "cell_type": "code",
   "execution_count": 13,
   "metadata": {},
   "outputs": [
    {
     "data": {
      "text/plain": [
       "(193461, 35)"
      ]
     },
     "execution_count": 13,
     "metadata": {},
     "output_type": "execute_result"
    }
   ],
   "source": [
    "df.shape"
   ]
  },
  {
   "cell_type": "code",
   "execution_count": 14,
   "metadata": {},
   "outputs": [
    {
     "data": {
      "text/plain": [
       "traffic\n",
       "apachekiller    35873\n",
       "arpspoofing        94\n",
       "camoverflow        21\n",
       "mqttmalaria     68866\n",
       "netscan           575\n",
       "normal          35162\n",
       "rudeadyet       37538\n",
       "slowloris       12208\n",
       "slowread         3124\n",
       "Name: traffic, dtype: int64"
      ]
     },
     "execution_count": 14,
     "metadata": {},
     "output_type": "execute_result"
    }
   ],
   "source": [
    "df.groupby('traffic')['traffic'].count()"
   ]
  },
  {
   "cell_type": "code",
   "execution_count": 15,
   "metadata": {},
   "outputs": [
    {
     "data": {
      "text/plain": [
       "is_attack\n",
       "0     35162\n",
       "1    158299\n",
       "Name: is_attack, dtype: int64"
      ]
     },
     "execution_count": 15,
     "metadata": {},
     "output_type": "execute_result"
    }
   ],
   "source": [
    "df.groupby('is_attack')['is_attack'].count()"
   ]
  },
  {
   "cell_type": "code",
   "execution_count": 16,
   "metadata": {},
   "outputs": [],
   "source": [
    "undersample_count = 10000\n",
    "category_to_undersample = 'mqttmalaria'\n",
    "\n",
    "category_count = df.groupby('traffic')['traffic'].count().loc[category_to_undersample]\n",
    "\n",
    "undersampled_df = df[df['traffic'] == category_to_undersample].sample(n=undersample_count, random_state=42)\n",
    "df_undersampled = pd.concat([df[df['traffic'] != category_to_undersample], undersampled_df])\n",
    "df_undersampled = df_undersampled.sample(frac=1, random_state=42)\n",
    "\n",
    "df = df_undersampled.copy()"
   ]
  },
  {
   "cell_type": "code",
   "execution_count": 17,
   "metadata": {},
   "outputs": [],
   "source": [
    "undersample_count = 10000\n",
    "category_to_undersample = 'apachekiller'\n",
    "\n",
    "category_count = df.groupby('traffic')['traffic'].count().loc[category_to_undersample]\n",
    "\n",
    "undersampled_df = df[df['traffic'] == category_to_undersample].sample(n=undersample_count, random_state=42)\n",
    "df_undersampled = pd.concat([df[df['traffic'] != category_to_undersample], undersampled_df])\n",
    "df_undersampled = df_undersampled.sample(frac=1, random_state=42)\n",
    "\n",
    "df = df_undersampled.copy()"
   ]
  },
  {
   "cell_type": "code",
   "execution_count": 18,
   "metadata": {},
   "outputs": [],
   "source": [
    "undersample_count = 10000\n",
    "category_to_undersample = 'rudeadyet'\n",
    "\n",
    "category_count = df.groupby('traffic')['traffic'].count().loc[category_to_undersample]\n",
    "\n",
    "undersampled_df = df[df['traffic'] == category_to_undersample].sample(n=undersample_count, random_state=42)\n",
    "df_undersampled = pd.concat([df[df['traffic'] != category_to_undersample], undersampled_df])\n",
    "df_undersampled = df_undersampled.sample(frac=1, random_state=42)\n",
    "\n",
    "df = df_undersampled.copy()"
   ]
  },
  {
   "cell_type": "code",
   "execution_count": 19,
   "metadata": {},
   "outputs": [],
   "source": [
    "df = df.drop(['traffic'], axis=1)"
   ]
  },
  {
   "cell_type": "code",
   "execution_count": 20,
   "metadata": {},
   "outputs": [
    {
     "data": {
      "text/plain": [
       "is_attack\n",
       "0    35162\n",
       "1    46022\n",
       "Name: is_attack, dtype: int64"
      ]
     },
     "execution_count": 20,
     "metadata": {},
     "output_type": "execute_result"
    }
   ],
   "source": [
    "df.groupby('is_attack')['is_attack'].count()"
   ]
  },
  {
   "cell_type": "code",
   "execution_count": 21,
   "metadata": {},
   "outputs": [],
   "source": [
    "# Transform the categorical labels into binary format.\n",
    "lb = LabelBinarizer()\n",
    "\n",
    "# Transform the 'label' column to binary format.\n",
    "df['is_attack'] = lb.fit_transform(df['is_attack'])"
   ]
  },
  {
   "cell_type": "code",
   "execution_count": 22,
   "metadata": {},
   "outputs": [],
   "source": [
    "# Separate the features (X) and the target variable (y) from the DataFrame.\n",
    "X = df.drop(['is_attack'], axis=1)  # Features\n",
    "y = df['is_attack']  # Target variable"
   ]
  },
  {
   "cell_type": "code",
   "execution_count": 23,
   "metadata": {},
   "outputs": [
    {
     "data": {
      "text/plain": [
       "StratifiedKFold(n_splits=10, random_state=None, shuffle=False)"
      ]
     },
     "execution_count": 23,
     "metadata": {},
     "output_type": "execute_result"
    }
   ],
   "source": [
    "# Initialize Stratified K-Folds cross-validator with the specified number of splits.\n",
    "skf = StratifiedKFold(n_splits=10, shuffle=False)\n",
    "\n",
    "skf"
   ]
  },
  {
   "cell_type": "code",
   "execution_count": 24,
   "metadata": {},
   "outputs": [
    {
     "name": "stdout",
     "output_type": "stream",
     "text": [
      "X_train length: 73066\n",
      "y_train length: 73066\n",
      "X_test length: 8118\n",
      "y_test length: 8118\n"
     ]
    }
   ],
   "source": [
    "# Iterate over each fold of the Stratified K-Folds cross-validator.\n",
    "for train_index, test_index in skf.split(X, y):\n",
    "    # Extract training and testing sets based on the generated indices.\n",
    "    X_train, X_test = X.iloc[train_index], X.iloc[test_index]\n",
    "    y_train, y_test = y.iloc[train_index], y.iloc[test_index]\n",
    "\n",
    "    # Reshape y_train and y_test to have a single column.\n",
    "    reshaped_y_train = np.asarray(y_train).reshape(-1, 1)\n",
    "    reshaped_y_test = np.asarray(y_test).reshape(-1, 1)\n",
    "\n",
    "# Print the lengths of training and testing sets to verify the splits.\n",
    "print('X_train length:', len(X_train))  # To check if splits worked\n",
    "print('y_train length:', len(y_train))\n",
    "print('X_test length:', len(X_test))\n",
    "print('y_test length:', len(y_test))"
   ]
  },
  {
   "cell_type": "markdown",
   "metadata": {},
   "source": [
    "---------------------------------------\n",
    "\n",
    "# Save Train and Test Dataset"
   ]
  },
  {
   "cell_type": "code",
   "execution_count": 25,
   "metadata": {},
   "outputs": [],
   "source": [
    "# Save training data\n",
    "train_data = pd.concat([X_train, y_train], axis=1)\n",
    "train_data.to_csv('../0_Datasets/IoMT_AI_IDS/train.csv', index=False)\n",
    "\n",
    "# Save testing data\n",
    "test_data = pd.concat([X_test, y_test], axis=1)\n",
    "test_data.to_csv('../0_Datasets/IoMT_AI_IDS/test.csv', index=False)"
   ]
  },
  {
   "cell_type": "code",
   "execution_count": null,
   "metadata": {},
   "outputs": [],
   "source": []
  }
 ],
 "metadata": {
  "colab": {
   "provenance": []
  },
  "kernelspec": {
   "display_name": "Python 3 (ipykernel)",
   "language": "python",
   "name": "python3"
  },
  "language_info": {
   "codemirror_mode": {
    "name": "ipython",
    "version": 3
   },
   "file_extension": ".py",
   "mimetype": "text/x-python",
   "name": "python",
   "nbconvert_exporter": "python",
   "pygments_lexer": "ipython3",
   "version": "3.10.12"
  }
 },
 "nbformat": 4,
 "nbformat_minor": 4
}
